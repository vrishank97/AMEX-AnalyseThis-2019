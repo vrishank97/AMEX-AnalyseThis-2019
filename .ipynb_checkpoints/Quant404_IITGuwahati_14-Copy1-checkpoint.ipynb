{
 "cells": [
  {
   "cell_type": "code",
   "execution_count": 45,
   "metadata": {
    "collapsed": true
   },
   "outputs": [],
   "source": [
    "import pandas as pd\n",
    "import matplotlib.pyplot as plt\n",
    "import numpy as np\n",
    "\n",
    "%matplotlib inline"
   ]
  },
  {
   "cell_type": "code",
   "execution_count": 46,
   "metadata": {
    "collapsed": true
   },
   "outputs": [],
   "source": [
    "train = pd.read_csv(\"train.csv\")\n",
    "leaderboard = pd.read_csv(\"leaderboard_dataset.csv\")\n",
    "test = pd.read_csv(\"test.csv\")"
   ]
  },
  {
   "cell_type": "code",
   "execution_count": 47,
   "metadata": {
    "collapsed": true
   },
   "outputs": [],
   "source": [
    "train = train.fillna(0)\n",
    "leaderboard = leaderboard.fillna(0)\n",
    "test = test.fillna(0)"
   ]
  },
  {
   "cell_type": "code",
   "execution_count": 48,
   "metadata": {
    "collapsed": true
   },
   "outputs": [],
   "source": [
    "y = train[\"VAR21\"]\n",
    "X = train.drop([\"VAR21\"], axis=1)"
   ]
  },
  {
   "cell_type": "code",
   "execution_count": 49,
   "metadata": {
    "collapsed": true
   },
   "outputs": [],
   "source": [
    "from sklearn.preprocessing import LabelEncoder\n",
    "\n",
    "for c in X.columns:\n",
    "    if X[c].dtype == 'object':\n",
    "        lbl = LabelEncoder() \n",
    "        lbl.fit(list(X[c].values) + list(test[c].values) + list(leaderboard[c].values)) \n",
    "        X[c] = lbl.transform(list(X[c].values))\n",
    "        test[c] = lbl.transform(list(test[c].values))\n",
    "        leaderboard[c] = lbl.transform(list(leaderboard[c].values))"
   ]
  },
  {
   "cell_type": "code",
   "execution_count": 50,
   "metadata": {
    "collapsed": true
   },
   "outputs": [],
   "source": [
    "lbl = LabelEncoder() \n",
    "lbl.fit(list(y.values)) \n",
    "y = lbl.transform(list(y))"
   ]
  },
  {
   "cell_type": "code",
   "execution_count": 51,
   "metadata": {},
   "outputs": [
    {
     "data": {
      "text/plain": [
       "array([1, 0, 2, ..., 1, 1, 0])"
      ]
     },
     "execution_count": 51,
     "metadata": {},
     "output_type": "execute_result"
    }
   ],
   "source": [
    "y"
   ]
  },
  {
   "cell_type": "code",
   "execution_count": 52,
   "metadata": {
    "collapsed": true
   },
   "outputs": [],
   "source": [
    "from sklearn.random_projection import GaussianRandomProjection, SparseRandomProjection\n",
    "from sklearn.decomposition import PCA, FastICA\n",
    "from sklearn.decomposition import TruncatedSVD\n",
    "n_comp = 12\n",
    "\n",
    "# tSVD\n",
    "tsvd = TruncatedSVD(n_components=n_comp, random_state=420)\n",
    "tsvd_results_X = tsvd.fit_transform(X)\n",
    "tsvd_results_test = tsvd.transform(test)\n",
    "tsvd_results_leaderboard = tsvd.transform(leaderboard)\n",
    "\n",
    "# PCA\n",
    "pca = PCA(n_components=12, random_state=420)\n",
    "pca2_results_X = pca.fit_transform(X)\n",
    "pca2_results_test = pca.transform(test)\n",
    "pca2_results_leaderboard = pca.transform(leaderboard)\n",
    "\n",
    "# ICA\n",
    "ica = FastICA(n_components=12, random_state=420)\n",
    "ica2_results_X = ica.fit_transform(X)\n",
    "ica2_results_test = ica.transform(test)\n",
    "ica2_results_leaderboard = ica.transform(leaderboard)\n",
    "\n",
    "# GRP\n",
    "grp = GaussianRandomProjection(n_components=n_comp, eps=0.1, random_state=420)\n",
    "grp_results_X = grp.fit_transform(X)\n",
    "grp_results_test = grp.transform(test)\n",
    "grp_results_leaderboard = grp.transform(leaderboard)\n",
    "\n",
    "# SRP\n",
    "srp = SparseRandomProjection(n_components=n_comp, dense_output=True, random_state=420)\n",
    "srp_results_X = srp.fit_transform(X)\n",
    "srp_results_test = srp.transform(test)\n",
    "srp_results_leaderboard = srp.transform(leaderboard)\n",
    "\n",
    "X_trans = X\n",
    "leaderboard_trans = leaderboard\n",
    "test_trans = test\n",
    "\n",
    "# Append decomposition components to datasets\n",
    "for i in range(1, n_comp+1):\n",
    "    X_trans['pca_' + str(i)] = pca2_results_X[:,i-1]\n",
    "    test_trans['pca_' + str(i)] = pca2_results_test[:, i-1]\n",
    "    leaderboard_trans['pca_' + str(i)] = pca2_results_leaderboard[:, i-1]\n",
    "    \n",
    "    X_trans['ica_' + str(i)] = ica2_results_X[:,i-1]\n",
    "    test_trans['ica_' + str(i)] = ica2_results_test[:, i-1]\n",
    "    leaderboard_trans['ica_' + str(i)] = ica2_results_leaderboard[:, i-1]\n",
    "\n",
    "    X_trans['tsvd_' + str(i)] = tsvd_results_X[:,i-1]\n",
    "    test_trans['tsvd_' + str(i)] = tsvd_results_test[:, i-1]\n",
    "    leaderboard_trans['tsvd_' + str(i)] = tsvd_results_leaderboard[:, i-1]\n",
    "    \n",
    "    X_trans['grp_' + str(i)] = grp_results_X[:,i-1]\n",
    "    test_trans['grp_' + str(i)] = grp_results_test[:, i-1]\n",
    "    leaderboard_trans['grp_' + str(i)] = grp_results_leaderboard[:, i-1]\n",
    "    \n",
    "    X_trans['srp_' + str(i)] = srp_results_X[:,i-1]\n",
    "    test_trans['srp_' + str(i)] = srp_results_test[:, i-1]\n",
    "    leaderboard_trans['srp_' + str(i)] = srp_results_leaderboard[:, i-1]"
   ]
  },
  {
   "cell_type": "code",
   "execution_count": null,
   "metadata": {},
   "outputs": [
    {
     "name": "stdout",
     "output_type": "stream",
     "text": [
      "[0]\ttrain-mlogloss:1.09546+5.12272e-05\ttest-mlogloss:1.09578+2.78129e-05\n",
      "[50]\ttrain-mlogloss:0.979724+0.00160848\ttest-mlogloss:0.994454+0.00167022\n",
      "[100]\ttrain-mlogloss:0.913761+0.00242372\ttest-mlogloss:0.940842+0.00299623\n",
      "[150]\ttrain-mlogloss:0.872216+0.00277071\ttest-mlogloss:0.910789+0.00406495\n",
      "[200]\ttrain-mlogloss:0.843639+0.00301682\ttest-mlogloss:0.893214+0.00481768\n",
      "[250]\ttrain-mlogloss:0.822686+0.00302518\ttest-mlogloss:0.882626+0.00544124\n",
      "[300]\ttrain-mlogloss:0.806804+0.00281609\ttest-mlogloss:0.876077+0.00591538\n",
      "[350]\ttrain-mlogloss:0.794175+0.00267161\ttest-mlogloss:0.872062+0.00633703\n",
      "[400]\ttrain-mlogloss:0.783294+0.00249531\ttest-mlogloss:0.869487+0.00669279\n",
      "[450]\ttrain-mlogloss:0.773591+0.00249327\ttest-mlogloss:0.867862+0.00691721\n",
      "[500]\ttrain-mlogloss:0.764751+0.00298162\ttest-mlogloss:0.866749+0.00702949\n",
      "[550]\ttrain-mlogloss:0.756276+0.0030981\ttest-mlogloss:0.866013+0.0071353\n",
      "[600]\ttrain-mlogloss:0.748279+0.00333062\ttest-mlogloss:0.865569+0.00725253\n",
      "[650]\ttrain-mlogloss:0.740742+0.00345998\ttest-mlogloss:0.865293+0.0073387\n",
      "[700]\ttrain-mlogloss:0.733554+0.00364341\ttest-mlogloss:0.865133+0.00735962\n",
      "[750]\ttrain-mlogloss:0.72668+0.00377504\ttest-mlogloss:0.865068+0.00739554\n",
      "[800]\ttrain-mlogloss:0.720022+0.00397202\ttest-mlogloss:0.865064+0.00745611\n",
      "num_boost_rounds=773\n"
     ]
    },
    {
     "data": {
      "text/plain": [
       "'Quant404_IITGuwahati_13.ipynb'"
      ]
     },
     "execution_count": 56,
     "metadata": {},
     "output_type": "execute_result"
    }
   ],
   "source": [
    "import xgboost as xgb\n",
    "\n",
    "# prepare dict of params for xgboost to run with\n",
    "xgb_params = {\n",
    "    'n_trees': 700, \n",
    "    'eta': 0.01,\n",
    "    'max_depth': 6,\n",
    "    'subsample': 0.93,\n",
    "    'objective': 'multi:softmax',\n",
    "    'eval_metric': 'mlogloss',\n",
    "    'silent': 1,\n",
    "    'num_class' :3,\n",
    "    'nthread':4\n",
    "}\n",
    "\n",
    "# form DMatrices for Xgboost training\n",
    "dtrain = xgb.DMatrix(X_trans, y)\n",
    "dtest = xgb.DMatrix(leaderboard_trans)\n",
    "\n",
    "# xgboost, cross-validation\n",
    "cv_result = xgb.cv(xgb_params, \n",
    "                   dtrain, \n",
    "                   num_boost_round=2200, # increase to have better results (~700)\n",
    "                   verbose_eval=50,\n",
    "                   early_stopping_rounds=50\n",
    "                  )\n",
    "\n",
    "num_boost_rounds = len(cv_result)\n",
    "print('num_boost_rounds=' + str(num_boost_rounds))\n",
    "\n",
    "# train model\n",
    "model = xgb.train(dict(xgb_params, silent=1), dtrain, num_boost_round=num_boost_rounds)\n",
    "\n",
    "\n",
    "# check f2-score (to get higher score - increase num_boost_round in previous cell)\n",
    "\n",
    "# make predictions and save results\n",
    "y_preds = model.predict(dtest)\n",
    "\n",
    "d = {'col1': leaderboard[\"VAR1\"], 'col2': [int(i) for i in y_preds]}\n",
    "df = pd.DataFrame(data=d)\n",
    "df[\"col2\"][df[\"col2\"] == 0] = \"High\"\n",
    "df[\"col2\"][df[\"col2\"] == 1] = \"Low\"\n",
    "df[\"col2\"][df[\"col2\"] == 2] = \"Medium\"\n",
    "\n",
    "import shutil \n",
    "\n",
    "filename = \"Quant404_IITGuwahati_13\"\n",
    "df.to_csv(filename+'.csv', index=False, header=False)\n",
    "shutil.copyfile(\"Untitled-Copy1.ipynb\", filename+\".ipynb\")"
   ]
  },
  {
   "cell_type": "code",
   "execution_count": null,
   "metadata": {},
   "outputs": [
    {
     "name": "stdout",
     "output_type": "stream",
     "text": [
      "[0]\ttrain-mlogloss:1.0952+5.63106e-05\ttest-mlogloss:1.09572+2.74024e-05\n",
      "[50]\ttrain-mlogloss:0.968323+0.00183996\ttest-mlogloss:0.992689+0.0016189\n",
      "[100]\ttrain-mlogloss:0.89432+0.00287841\ttest-mlogloss:0.938692+0.00306198\n",
      "[150]\ttrain-mlogloss:0.846123+0.00330994\ttest-mlogloss:0.908724+0.00417618\n",
      "[200]\ttrain-mlogloss:0.811663+0.00365102\ttest-mlogloss:0.891262+0.00498612\n",
      "[250]\ttrain-mlogloss:0.785642+0.00350469\ttest-mlogloss:0.880926+0.00562466\n",
      "[300]\ttrain-mlogloss:0.765406+0.00347686\ttest-mlogloss:0.874523+0.00604547\n",
      "[350]\ttrain-mlogloss:0.749053+0.00340089\ttest-mlogloss:0.870756+0.00645945\n",
      "[400]\ttrain-mlogloss:0.734978+0.00327302\ttest-mlogloss:0.868298+0.00673399\n",
      "[450]\ttrain-mlogloss:0.722338+0.00329753\ttest-mlogloss:0.866939+0.00688388\n",
      "[500]\ttrain-mlogloss:0.71087+0.00389402\ttest-mlogloss:0.866062+0.00705302\n",
      "[550]\ttrain-mlogloss:0.699879+0.00426086\ttest-mlogloss:0.865482+0.00710715\n",
      "[600]\ttrain-mlogloss:0.689449+0.00464952\ttest-mlogloss:0.865206+0.00720728\n",
      "[650]\ttrain-mlogloss:0.679448+0.0048565\ttest-mlogloss:0.865071+0.00726548\n",
      "[700]\ttrain-mlogloss:0.669939+0.00492156\ttest-mlogloss:0.865051+0.00732556\n",
      "num_boost_rounds=670\n"
     ]
    }
   ],
   "source": [
    "import xgboost as xgb\n",
    "\n",
    "# prepare dict of params for xgboost to run with\n",
    "xgb_params = {\n",
    "    'n_trees': 700, \n",
    "    'eta': 0.01,\n",
    "    'max_depth': 7,\n",
    "    'subsample': 0.93,\n",
    "    'objective': 'multi:softmax',\n",
    "    'eval_metric': 'mlogloss',\n",
    "    'silent': 1,\n",
    "    'num_class' :3,\n",
    "    'nthread':4\n",
    "}\n",
    "\n",
    "# form DMatrices for Xgboost training\n",
    "dtrain = xgb.DMatrix(X_trans, y)\n",
    "dtest = xgb.DMatrix(leaderboard_trans)\n",
    "\n",
    "# xgboost, cross-validation\n",
    "cv_result = xgb.cv(xgb_params, \n",
    "                   dtrain, \n",
    "                   num_boost_round=2200, # increase to have better results (~700)\n",
    "                   verbose_eval=50, \n",
    "                   early_stopping_rounds=50\n",
    "                  )\n",
    "\n",
    "num_boost_rounds = len(cv_result)\n",
    "print('num_boost_rounds=' + str(num_boost_rounds))\n",
    "\n",
    "# train model\n",
    "model = xgb.train(dict(xgb_params, silent=1), dtrain, num_boost_round=num_boost_rounds)\n",
    "\n",
    "\n",
    "# check f2-score (to get higher score - increase num_boost_round in previous cell)\n",
    "\n",
    "# make predictions and save results\n",
    "y_preds = model.predict(dtest)\n",
    "\n",
    "\n",
    "d = {'col1': leaderboard[\"VAR1\"], 'col2': [int(i) for i in y_preds]}\n",
    "df = pd.DataFrame(data=d)\n",
    "df[\"col2\"][df[\"col2\"] == 0] = \"High\"\n",
    "df[\"col2\"][df[\"col2\"] == 1] = \"Low\"\n",
    "df[\"col2\"][df[\"col2\"] == 2] = \"Medium\"\n",
    "\n",
    "import shutil \n",
    "\n",
    "filename = \"Quant404_IITGuwahati_14\"\n",
    "df.to_csv(filename+'.csv', index=False, header=False)\n",
    "shutil.copyfile(\"Untitled-Copy1.ipynb\", filename+\".ipynb\")"
   ]
  },
  {
   "cell_type": "code",
   "execution_count": 53,
   "metadata": {},
   "outputs": [
    {
     "name": "stdout",
     "output_type": "stream",
     "text": [
      "[0]\ttrain-mlogloss:1.09567+3.87843e-05\ttest-mlogloss:1.09586+3.23557e-05\n",
      "[50]\ttrain-mlogloss:0.988552+0.00141342\ttest-mlogloss:0.996762+0.00177267\n",
      "[100]\ttrain-mlogloss:0.928611+0.00219887\ttest-mlogloss:0.943884+0.00301666\n",
      "[150]\ttrain-mlogloss:0.892078+0.00264109\ttest-mlogloss:0.913998+0.00407081\n",
      "[200]\ttrain-mlogloss:0.86806+0.00286799\ttest-mlogloss:0.896348+0.00484156\n",
      "[250]\ttrain-mlogloss:0.851102+0.00298996\ttest-mlogloss:0.88564+0.00554985\n",
      "[300]\ttrain-mlogloss:0.83864+0.00296459\ttest-mlogloss:0.878977+0.00609341\n",
      "[350]\ttrain-mlogloss:0.828861+0.00287962\ttest-mlogloss:0.874807+0.00648909\n",
      "[400]\ttrain-mlogloss:0.820723+0.0027224\ttest-mlogloss:0.872068+0.00681436\n",
      "[450]\ttrain-mlogloss:0.813547+0.00268878\ttest-mlogloss:0.870177+0.00710087\n",
      "[500]\ttrain-mlogloss:0.807035+0.00286632\ttest-mlogloss:0.868848+0.00729202\n",
      "[550]\ttrain-mlogloss:0.800863+0.0029347\ttest-mlogloss:0.867879+0.00740911\n",
      "[600]\ttrain-mlogloss:0.795126+0.00307687\ttest-mlogloss:0.86715+0.00749668\n",
      "[650]\ttrain-mlogloss:0.789856+0.0032171\ttest-mlogloss:0.866676+0.00753717\n",
      "[700]\ttrain-mlogloss:0.784683+0.00328283\ttest-mlogloss:0.86632+0.00760124\n",
      "[750]\ttrain-mlogloss:0.779863+0.00328076\ttest-mlogloss:0.866091+0.0076123\n",
      "[800]\ttrain-mlogloss:0.775131+0.0033975\ttest-mlogloss:0.865953+0.0076367\n",
      "[850]\ttrain-mlogloss:0.770548+0.00346985\ttest-mlogloss:0.865865+0.00771893\n",
      "[900]\ttrain-mlogloss:0.765997+0.00359092\ttest-mlogloss:0.865813+0.00769585\n",
      "[950]\ttrain-mlogloss:0.76144+0.00379408\ttest-mlogloss:0.865731+0.0076736\n",
      "[999]\ttrain-mlogloss:0.757149+0.00379357\ttest-mlogloss:0.865698+0.00767098\n",
      "num_boost_rounds=1000\n"
     ]
    },
    {
     "data": {
      "text/plain": [
       "'Quant404_IITGuwahati_12.ipynb'"
      ]
     },
     "execution_count": 53,
     "metadata": {},
     "output_type": "execute_result"
    }
   ],
   "source": [
    "import xgboost as xgb\n",
    "\n",
    "# prepare dict of params for xgboost to run with\n",
    "xgb_params = {\n",
    "    'n_trees': 700, \n",
    "    'eta': 0.01,\n",
    "    'max_depth': 8,\n",
    "    'subsample': 0.93,\n",
    "    'objective': 'multi:softmax',\n",
    "    'eval_metric': 'mlogloss',\n",
    "    'silent': 1,\n",
    "    'num_class' :3,\n",
    "    'nthread':4\n",
    "}\n",
    "\n",
    "# form DMatrices for Xgboost training\n",
    "dtrain = xgb.DMatrix(X_trans, y)\n",
    "dtest = xgb.DMatrix(leaderboard_trans)\n",
    "\n",
    "# xgboost, cross-validation\n",
    "cv_result = xgb.cv(xgb_params, \n",
    "                   dtrain, \n",
    "                   num_boost_round=2200, # increase to have better results (~700)\n",
    "                   verbose_eval=50, \n",
    "                   early_stopping_rounds=50\n",
    "                  )\n",
    "\n",
    "num_boost_rounds = len(cv_result)\n",
    "print('num_boost_rounds=' + str(num_boost_rounds))\n",
    "\n",
    "# train model\n",
    "model = xgb.train(dict(xgb_params, silent=1), dtrain, num_boost_round=num_boost_rounds)\n",
    "\n",
    "\n",
    "# check f2-score (to get higher score - increase num_boost_round in previous cell)\n",
    "\n",
    "# make predictions and save results\n",
    "y_preds = model.predict(dtest)\n",
    "\n",
    "\n",
    "d = {'col1': leaderboard[\"VAR1\"], 'col2': [int(i) for i in y_preds]}\n",
    "df = pd.DataFrame(data=d)\n",
    "df[\"col2\"][df[\"col2\"] == 0] = \"High\"\n",
    "df[\"col2\"][df[\"col2\"] == 1] = \"Low\"\n",
    "df[\"col2\"][df[\"col2\"] == 2] = \"Medium\"\n",
    "\n",
    "import shutil \n",
    "\n",
    "filename = \"Quant404_IITGuwahati_15\"\n",
    "df.to_csv(filename+'.csv', index=False, header=False)\n",
    "shutil.copyfile(\"Untitled-Copy1.ipynb\", filename+\".ipynb\")"
   ]
  },
  {
   "cell_type": "code",
   "execution_count": 23,
   "metadata": {},
   "outputs": [],
   "source": [
    "from sklearn.model_selection import train_test_split\n",
    "from sklearn.metrics.scorer import make_scorer\n",
    "\n",
    "\n",
    "def my_custom_accuracy(y_true, y_pred):\n",
    "    total=0\n",
    "    for t,p in zip(y_true, y_pred):\n",
    "        if(t==p):\n",
    "            total+=1000\n",
    "        if(t==0 and p==1):\n",
    "            total-=100\n",
    "        if(t==0 and p==2):\n",
    "            total-=50\n",
    "        if(t==2 and p==1):\n",
    "            total-=50\n",
    "        if(t==2 and p==0):\n",
    "            total-=100\n",
    "        if(t==1 and p==2):\n",
    "            total-=100\n",
    "        if(t==1 and p==0):\n",
    "            total-=200\n",
    "    return float(sum(y_pred == y_true))\n",
    "\n",
    "# Make a custom a scorer from the custom metric function\n",
    "# Note: greater_is_better=False in make_scorer below would mean that the scoring function should be minimized.\n",
    "my_custom_scorer = make_scorer(my_custom_accuracy, greater_is_better=True)\n",
    "X_train, X_test, y_train, y_test = train_test_split(X, y,\n",
    "                                                    train_size=30000, test_size=4000)\n",
    "\n",
    "#tpot = TPOTClassifier(generations=10, population_size=20, verbosity=3, scoring=my_custom_scorer, cv=3)"
   ]
  },
  {
   "cell_type": "code",
   "execution_count": null,
   "metadata": {},
   "outputs": [
    {
     "name": "stdout",
     "output_type": "stream",
     "text": [
      "30 operators have been imported by TPOT.\n"
     ]
    },
    {
     "data": {
      "application/vnd.jupyter.widget-view+json": {
       "model_id": "719362ece2a14f2abcc93ef5ca289e4c",
       "version_major": 2,
       "version_minor": 0
      },
      "text/plain": [
       "A Jupyter Widget"
      ]
     },
     "metadata": {},
     "output_type": "display_data"
    },
    {
     "name": "stdout",
     "output_type": "stream",
     "text": [
      "Skipped pipeline #14 due to time out. Continuing to the next pipeline.\n",
      "Skipped pipeline #17 due to time out. Continuing to the next pipeline.\n"
     ]
    }
   ],
   "source": [
    "tpot.fit(X_train, y_train)"
   ]
  },
  {
   "cell_type": "code",
   "execution_count": null,
   "metadata": {
    "collapsed": true
   },
   "outputs": [],
   "source": []
  }
 ],
 "metadata": {
  "kernelspec": {
   "display_name": "Python 3",
   "language": "python",
   "name": "python3"
  },
  "language_info": {
   "codemirror_mode": {
    "name": "ipython",
    "version": 3
   },
   "file_extension": ".py",
   "mimetype": "text/x-python",
   "name": "python",
   "nbconvert_exporter": "python",
   "pygments_lexer": "ipython3",
   "version": "3.6.3"
  }
 },
 "nbformat": 4,
 "nbformat_minor": 2
}
