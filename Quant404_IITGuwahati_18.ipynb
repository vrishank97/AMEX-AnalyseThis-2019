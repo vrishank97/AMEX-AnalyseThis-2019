{
 "cells": [
  {
   "cell_type": "code",
   "execution_count": 155,
   "metadata": {
    "collapsed": true
   },
   "outputs": [],
   "source": [
    "import pandas as pd\n",
    "import matplotlib.pyplot as plt\n",
    "import numpy as np\n",
    "\n",
    "%matplotlib inline"
   ]
  },
  {
   "cell_type": "code",
   "execution_count": 156,
   "metadata": {
    "collapsed": true
   },
   "outputs": [],
   "source": [
    "train = pd.read_csv(\"train.csv\")\n",
    "leaderboard = pd.read_csv(\"leaderboard_dataset.csv\")\n",
    "test = pd.read_csv(\"test.csv\")"
   ]
  },
  {
   "cell_type": "code",
   "execution_count": 157,
   "metadata": {
    "collapsed": true
   },
   "outputs": [],
   "source": [
    "train = train.fillna(0)\n",
    "leaderboard = leaderboard.fillna(0)\n",
    "test = test.fillna(0)"
   ]
  },
  {
   "cell_type": "code",
   "execution_count": 158,
   "metadata": {
    "collapsed": true
   },
   "outputs": [],
   "source": [
    "y = train[\"VAR21\"]\n",
    "X = train.drop([\"VAR21\"], axis=1)"
   ]
  },
  {
   "cell_type": "code",
   "execution_count": 159,
   "metadata": {
    "collapsed": true
   },
   "outputs": [],
   "source": [
    "from sklearn.preprocessing import LabelEncoder\n",
    "\n",
    "for c in X.columns:\n",
    "    if X[c].dtype == 'object':\n",
    "        lbl = LabelEncoder() \n",
    "        lbl.fit(list(X[c].values) + list(test[c].values) + list(leaderboard[c].values)) \n",
    "        X[c] = lbl.transform(list(X[c].values))\n",
    "        test[c] = lbl.transform(list(test[c].values))\n",
    "        leaderboard[c] = lbl.transform(list(leaderboard[c].values))"
   ]
  },
  {
   "cell_type": "code",
   "execution_count": 160,
   "metadata": {},
   "outputs": [],
   "source": [
    "from copy import deepcopy\n",
    "lbl = LabelEncoder() \n",
    "lbl.fit(list(y.values)) \n",
    "y = lbl.transform(list(y))"
   ]
  },
  {
   "cell_type": "code",
   "execution_count": 161,
   "metadata": {},
   "outputs": [
    {
     "data": {
      "text/plain": [
       "array([1, 0, 2, ..., 1, 1, 0])"
      ]
     },
     "execution_count": 161,
     "metadata": {},
     "output_type": "execute_result"
    }
   ],
   "source": [
    "y"
   ]
  },
  {
   "cell_type": "code",
   "execution_count": 162,
   "metadata": {
    "collapsed": true
   },
   "outputs": [],
   "source": [
    "from sklearn.model_selection import train_test_split\n",
    "from sklearn.metrics.scorer import make_scorer\n",
    "\n",
    "\n",
    "def my_custom_accuracy(y_true, y_pred):\n",
    "    total=0\n",
    "    for t,p in zip(y_true, y_pred):\n",
    "        if(t==p):\n",
    "            total+=1000\n",
    "        if(t==0 and p==1):\n",
    "            total-=100\n",
    "        if(t==0 and p==2):\n",
    "            total-=50\n",
    "        if(t==2 and p==1):\n",
    "            total-=50\n",
    "        if(t==2 and p==0):\n",
    "            total-=100\n",
    "        if(t==1 and p==2):\n",
    "            total-=100\n",
    "        if(t==1 and p==0):\n",
    "            total-=200\n",
    "    return total\n",
    "\n",
    "# Make a custom a scorer from the custom metric function\n",
    "# Note: greater_is_better=False in make_scorer below would mean that the scoring function should be minimized.\n",
    "my_custom_scorer = make_scorer(my_custom_accuracy, greater_is_better=True)\n",
    "X, X_test, y, y_test = train_test_split(X, y, train_size=30000, test_size=4000)\n",
    "\n",
    "#tpot = TPOTClassifier(generations=10, population_size=20, verbosity=3, scoring=my_custom_scorer, cv=3)"
   ]
  },
  {
   "cell_type": "code",
   "execution_count": 163,
   "metadata": {},
   "outputs": [],
   "source": [
    "from sklearn.ensemble import GradientBoostingClassifier"
   ]
  },
  {
   "cell_type": "code",
   "execution_count": 164,
   "metadata": {
    "collapsed": true
   },
   "outputs": [],
   "source": [
    "from sklearn.model_selection import KFold"
   ]
  },
  {
   "cell_type": "code",
   "execution_count": 165,
   "metadata": {},
   "outputs": [],
   "source": [
    "kf = KFold(n_splits=3)"
   ]
  },
  {
   "cell_type": "code",
   "execution_count": 171,
   "metadata": {},
   "outputs": [
    {
     "name": "stdout",
     "output_type": "stream",
     "text": [
      "TRAIN: [10000 10001 10002 ... 29997 29998 29999] TEST: [   0    1    2 ... 9997 9998 9999]\n",
      "[0.74087114 0.6149512  0.55529872 ... 0.64084579 0.47879445 0.46202789]\n",
      "[2 2 2 ... 2 1 1]\n",
      "[0.88668705 0.8751275  0.89638353 ... 0.89984859 0.9379581  0.73086167]\n",
      "[2 2 2 ... 2 2 2]\n",
      "[0.15728916 0.21780285 0.33911813 ... 0.21590854 0.38018371 0.18535847]\n",
      "[0 0 0 ... 0 0 0]\n",
      "TRAIN: [    0     1     2 ... 29997 29998 29999] TEST: [10000 10001 10002 ... 19997 19998 19999]\n",
      "[0.61508622 0.53905222 0.66735603 ... 0.65853502 0.69467707 0.54779539]\n",
      "[2 2 2 ... 2 2 2]\n",
      "[0.87986991 0.89874816 0.9089907  ... 0.91957538 0.91146743 0.88936958]\n",
      "[2 2 2 ... 2 2 2]\n",
      "[0.20986506 0.33621489 0.19753577 ... 0.28041084 0.21827254 0.30857652]\n",
      "[0 0 0 ... 0 0 0]\n",
      "TRAIN: [    0     1     2 ... 19997 19998 19999] TEST: [20000 20001 20002 ... 29997 29998 29999]\n",
      "[0.54999148 0.60799109 0.48300659 ... 0.58713728 0.59428211 0.703447  ]\n",
      "[2 2 1 ... 2 2 2]\n",
      "[0.89789153 0.92571007 0.93101068 ... 0.90234841 0.91659666 0.9109534 ]\n",
      "[2 2 2 ... 2 2 2]\n",
      "[0.31879419 0.32465271 0.48053695 ... 0.25464857 0.18090275 0.2182169 ]\n",
      "[0 0 0 ... 0 0 0]\n"
     ]
    }
   ],
   "source": [
    "for train_index, test_index in kf.split(X):\n",
    "    print(\"TRAIN:\", train_index, \"TEST:\", test_index)\n",
    "    X_train, X_test = X.values[train_index], X.values[test_index]\n",
    "    y_train, y_test = y[train_index], y[test_index]\n",
    "    \n",
    "    y1_train = deepcopy(y_train)\n",
    "    y2_train = deepcopy(y_train)\n",
    "    y3_train = deepcopy(y_train)\n",
    "    \n",
    "    y1_test = deepcopy(y_test)\n",
    "    y2_test = deepcopy(y_test)\n",
    "    y3_test = deepcopy(y_test)\n",
    "    \n",
    "    np.place(y1_test, y1_test == 0, 1)\n",
    "    np.place(y2_test, y2_test == 1, 2)\n",
    "    np.place(y3_test, y3_test == 2, 0)\n",
    "    \n",
    "    np.place(y1_train, y1_train == 0, 1)\n",
    "    np.place(y2_train, y2_train == 1, 2)\n",
    "    np.place(y3_train, y3_train == 2, 0)\n",
    "    \n",
    "    model1 = GradientBoostingClassifier()\n",
    "    model2 = GradientBoostingClassifier()\n",
    "    model3 = GradientBoostingClassifier()\n",
    "    \n",
    "    model1.fit(X_train, y1_train)\n",
    "    model2.fit(X_train, y2_train)\n",
    "    model3.fit(X_train, y3_train)\n",
    "    \n",
    "    print(model1.predict_proba(X_test)[:,1])\n",
    "    print(model1.predict(X_test))\n",
    "    print(model2.predict_proba(X_test)[:,1])\n",
    "    print(model2.predict(X_test))\n",
    "    print(model3.predict_proba(X_test)[:,1])\n",
    "    print(model3.predict(X_test))\n",
    "    "
   ]
  },
  {
   "cell_type": "code",
   "execution_count": 149,
   "metadata": {},
   "outputs": [
    {
     "data": {
      "text/plain": [
       "array([2, 0, 1, ..., 2, 0, 2])"
      ]
     },
     "execution_count": 149,
     "metadata": {},
     "output_type": "execute_result"
    }
   ],
   "source": [
    "y[10000:29999]"
   ]
  },
  {
   "cell_type": "code",
   "execution_count": 99,
   "metadata": {},
   "outputs": [
    {
     "data": {
      "text/plain": [
       "(30000,)"
      ]
     },
     "execution_count": 99,
     "metadata": {},
     "output_type": "execute_result"
    }
   ],
   "source": [
    "y_train_split.shape"
   ]
  },
  {
   "cell_type": "code",
   "execution_count": null,
   "metadata": {
    "collapsed": true
   },
   "outputs": [],
   "source": []
  }
 ],
 "metadata": {
  "kernelspec": {
   "display_name": "Python 3",
   "language": "python",
   "name": "python3"
  },
  "language_info": {
   "codemirror_mode": {
    "name": "ipython",
    "version": 3
   },
   "file_extension": ".py",
   "mimetype": "text/x-python",
   "name": "python",
   "nbconvert_exporter": "python",
   "pygments_lexer": "ipython3",
   "version": "3.6.3"
  }
 },
 "nbformat": 4,
 "nbformat_minor": 2
}
