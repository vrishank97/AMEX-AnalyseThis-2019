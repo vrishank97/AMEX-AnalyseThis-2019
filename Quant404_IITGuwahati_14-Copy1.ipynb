{
 "cells": [
  {
   "cell_type": "code",
   "execution_count": 1,
   "metadata": {
    "collapsed": true
   },
   "outputs": [],
   "source": [
    "import pandas as pd\n",
    "import matplotlib.pyplot as plt\n",
    "import numpy as np\n",
    "\n",
    "%matplotlib inline"
   ]
  },
  {
   "cell_type": "code",
   "execution_count": 2,
   "metadata": {
    "collapsed": true
   },
   "outputs": [],
   "source": [
    "train = pd.read_csv(\"train.csv\")\n",
    "leaderboard = pd.read_csv(\"leaderboard_dataset.csv\")\n",
    "test = pd.read_csv(\"test.csv\")"
   ]
  },
  {
   "cell_type": "code",
   "execution_count": 3,
   "metadata": {
    "collapsed": true
   },
   "outputs": [],
   "source": [
    "train = train.fillna(0)\n",
    "leaderboard = leaderboard.fillna(0)\n",
    "test = test.fillna(0)"
   ]
  },
  {
   "cell_type": "code",
   "execution_count": 4,
   "metadata": {
    "collapsed": true
   },
   "outputs": [],
   "source": [
    "y = train[\"VAR21\"]\n",
    "X = train.drop([\"VAR21\"], axis=1)"
   ]
  },
  {
   "cell_type": "code",
   "execution_count": 5,
   "metadata": {
    "collapsed": true
   },
   "outputs": [],
   "source": [
    "from sklearn.preprocessing import LabelEncoder\n",
    "\n",
    "for c in X.columns:\n",
    "    if X[c].dtype == 'object':\n",
    "        lbl = LabelEncoder() \n",
    "        lbl.fit(list(X[c].values) + list(test[c].values) + list(leaderboard[c].values)) \n",
    "        X[c] = lbl.transform(list(X[c].values))\n",
    "        test[c] = lbl.transform(list(test[c].values))\n",
    "        leaderboard[c] = lbl.transform(list(leaderboard[c].values))"
   ]
  },
  {
   "cell_type": "code",
   "execution_count": 6,
   "metadata": {
    "collapsed": true
   },
   "outputs": [],
   "source": [
    "lbl = LabelEncoder() \n",
    "lbl.fit(list(y.values)) \n",
    "y = lbl.transform(list(y))"
   ]
  },
  {
   "cell_type": "code",
   "execution_count": 7,
   "metadata": {},
   "outputs": [
    {
     "data": {
      "text/plain": [
       "array([1, 0, 2, ..., 1, 1, 0])"
      ]
     },
     "execution_count": 7,
     "metadata": {},
     "output_type": "execute_result"
    }
   ],
   "source": [
    "y"
   ]
  },
  {
   "cell_type": "code",
   "execution_count": 8,
   "metadata": {
    "collapsed": true
   },
   "outputs": [],
   "source": [
    "from sklearn.random_projection import GaussianRandomProjection, SparseRandomProjection\n",
    "from sklearn.decomposition import PCA, FastICA\n",
    "from sklearn.decomposition import TruncatedSVD\n",
    "n_comp = 12\n",
    "\n",
    "# tSVD\n",
    "tsvd = TruncatedSVD(n_components=n_comp, random_state=420)\n",
    "tsvd_results_X = tsvd.fit_transform(X)\n",
    "tsvd_results_test = tsvd.transform(test)\n",
    "tsvd_results_leaderboard = tsvd.transform(leaderboard)\n",
    "\n",
    "# PCA\n",
    "pca = PCA(n_components=12, random_state=420)\n",
    "pca2_results_X = pca.fit_transform(X)\n",
    "pca2_results_test = pca.transform(test)\n",
    "pca2_results_leaderboard = pca.transform(leaderboard)\n",
    "\n",
    "# ICA\n",
    "ica = FastICA(n_components=12, random_state=420)\n",
    "ica2_results_X = ica.fit_transform(X)\n",
    "ica2_results_test = ica.transform(test)\n",
    "ica2_results_leaderboard = ica.transform(leaderboard)\n",
    "\n",
    "# GRP\n",
    "grp = GaussianRandomProjection(n_components=n_comp, eps=0.1, random_state=420)\n",
    "grp_results_X = grp.fit_transform(X)\n",
    "grp_results_test = grp.transform(test)\n",
    "grp_results_leaderboard = grp.transform(leaderboard)\n",
    "\n",
    "# SRP\n",
    "srp = SparseRandomProjection(n_components=n_comp, dense_output=True, random_state=420)\n",
    "srp_results_X = srp.fit_transform(X)\n",
    "srp_results_test = srp.transform(test)\n",
    "srp_results_leaderboard = srp.transform(leaderboard)\n",
    "\n",
    "X_trans = X\n",
    "leaderboard_trans = leaderboard\n",
    "test_trans = test\n",
    "\n",
    "# Append decomposition components to datasets\n",
    "for i in range(1, n_comp+1):\n",
    "    X_trans['pca_' + str(i)] = pca2_results_X[:,i-1]\n",
    "    test_trans['pca_' + str(i)] = pca2_results_test[:, i-1]\n",
    "    leaderboard_trans['pca_' + str(i)] = pca2_results_leaderboard[:, i-1]\n",
    "    \n",
    "    X_trans['ica_' + str(i)] = ica2_results_X[:,i-1]\n",
    "    test_trans['ica_' + str(i)] = ica2_results_test[:, i-1]\n",
    "    leaderboard_trans['ica_' + str(i)] = ica2_results_leaderboard[:, i-1]\n",
    "\n",
    "    X_trans['tsvd_' + str(i)] = tsvd_results_X[:,i-1]\n",
    "    test_trans['tsvd_' + str(i)] = tsvd_results_test[:, i-1]\n",
    "    leaderboard_trans['tsvd_' + str(i)] = tsvd_results_leaderboard[:, i-1]\n",
    "    \n",
    "    X_trans['grp_' + str(i)] = grp_results_X[:,i-1]\n",
    "    test_trans['grp_' + str(i)] = grp_results_test[:, i-1]\n",
    "    leaderboard_trans['grp_' + str(i)] = grp_results_leaderboard[:, i-1]\n",
    "    \n",
    "    X_trans['srp_' + str(i)] = srp_results_X[:,i-1]\n",
    "    test_trans['srp_' + str(i)] = srp_results_test[:, i-1]\n",
    "    leaderboard_trans['srp_' + str(i)] = srp_results_leaderboard[:, i-1]"
   ]
  },
  {
   "cell_type": "code",
   "execution_count": null,
   "metadata": {
    "collapsed": true
   },
   "outputs": [],
   "source": []
  },
  {
   "cell_type": "code",
   "execution_count": 19,
   "metadata": {},
   "outputs": [
    {
     "data": {
      "text/plain": [
       "'Quant404_IITGuwahati_16.ipynb'"
      ]
     },
     "execution_count": 19,
     "metadata": {},
     "output_type": "execute_result"
    }
   ],
   "source": [
    "d = {'col1': leaderboard[\"VAR1\"], 'col2': [int(i) for i in y_preds]}\n",
    "df = pd.DataFrame(data=d)\n",
    "df[\"col2\"][df[\"col2\"] == 0] = \"High\"\n",
    "df[\"col2\"][df[\"col2\"] == 1] = \"Low\"\n",
    "df[\"col2\"][df[\"col2\"] == 2] = \"Medium\"\n",
    "\n",
    "import shutil \n",
    "\n",
    "filename = \"Quant404_IITGuwahati_16\"\n",
    "df.to_csv(filename+'.csv', index=False, header=False)\n",
    "shutil.copyfile(\"Quant404_IITGuwahati_14-Copy1.ipynb\", filename+\".ipynb\")"
   ]
  },
  {
   "cell_type": "code",
   "execution_count": 13,
   "metadata": {
    "collapsed": true
   },
   "outputs": [],
   "source": [
    "from sklearn.model_selection import train_test_split\n",
    "from sklearn.metrics.scorer import make_scorer\n",
    "\n",
    "\n",
    "def my_custom_accuracy(y_true, y_pred):\n",
    "    total=0\n",
    "    for t,p in zip(y_true, y_pred):\n",
    "        if(t==p):\n",
    "            total+=1000\n",
    "        if(t==0 and p==1):\n",
    "            total-=100\n",
    "        if(t==0 and p==2):\n",
    "            total-=50\n",
    "        if(t==2 and p==1):\n",
    "            total-=50\n",
    "        if(t==2 and p==0):\n",
    "            total-=100\n",
    "        if(t==1 and p==2):\n",
    "            total-=100\n",
    "        if(t==1 and p==0):\n",
    "            total-=200\n",
    "    return total\n",
    "\n",
    "# Make a custom a scorer from the custom metric function\n",
    "# Note: greater_is_better=False in make_scorer below would mean that the scoring function should be minimized.\n",
    "my_custom_scorer = make_scorer(my_custom_accuracy, greater_is_better=True)\n",
    "X_train, X_test, y_train, y_test = train_test_split(X, y,\n",
    "                                                    train_size=30000, test_size=4000)\n",
    "\n",
    "#tpot = TPOTClassifier(generations=10, population_size=20, verbosity=3, scoring=my_custom_scorer, cv=3)"
   ]
  },
  {
   "cell_type": "code",
   "execution_count": 10,
   "metadata": {},
   "outputs": [],
   "source": [
    "from lightgbm import LGBMClassifier"
   ]
  },
  {
   "cell_type": "code",
   "execution_count": 11,
   "metadata": {
    "collapsed": true
   },
   "outputs": [],
   "source": [
    "model = LGBMClassifier()"
   ]
  },
  {
   "cell_type": "code",
   "execution_count": 12,
   "metadata": {},
   "outputs": [
    {
     "name": "stderr",
     "output_type": "stream",
     "text": [
      "/Users/vrishank/anaconda3/lib/python3.6/site-packages/sklearn/preprocessing/label.py:151: DeprecationWarning: The truth value of an empty array is ambiguous. Returning False, but in future this will result in an error. Use `array.size > 0` to check that an array is not empty.\n",
      "  if diff:\n"
     ]
    }
   ],
   "source": [
    "model.fit(X_train, y_train)\n",
    "y_preds = model.predict(X_test)"
   ]
  },
  {
   "cell_type": "code",
   "execution_count": 14,
   "metadata": {},
   "outputs": [
    {
     "data": {
      "text/plain": [
       "1780250"
      ]
     },
     "execution_count": 14,
     "metadata": {},
     "output_type": "execute_result"
    }
   ],
   "source": [
    "my_custom_accuracy(y_test, y_preds)"
   ]
  },
  {
   "cell_type": "code",
   "execution_count": 15,
   "metadata": {
    "collapsed": true
   },
   "outputs": [],
   "source": [
    "from sklearn.cross_validation import cross_val_score"
   ]
  },
  {
   "cell_type": "code",
   "execution_count": 17,
   "metadata": {},
   "outputs": [
    {
     "name": "stderr",
     "output_type": "stream",
     "text": [
      "/Users/vrishank/anaconda3/lib/python3.6/site-packages/sklearn/preprocessing/label.py:151: DeprecationWarning: The truth value of an empty array is ambiguous. Returning False, but in future this will result in an error. Use `array.size > 0` to check that an array is not empty.\n",
      "  if diff:\n",
      "/Users/vrishank/anaconda3/lib/python3.6/site-packages/sklearn/preprocessing/label.py:151: DeprecationWarning: The truth value of an empty array is ambiguous. Returning False, but in future this will result in an error. Use `array.size > 0` to check that an array is not empty.\n",
      "  if diff:\n",
      "/Users/vrishank/anaconda3/lib/python3.6/site-packages/sklearn/preprocessing/label.py:151: DeprecationWarning: The truth value of an empty array is ambiguous. Returning False, but in future this will result in an error. Use `array.size > 0` to check that an array is not empty.\n",
      "  if diff:\n"
     ]
    },
    {
     "data": {
      "text/plain": [
       "array([5484350., 5401800., 5280950.])"
      ]
     },
     "execution_count": 17,
     "metadata": {},
     "output_type": "execute_result"
    }
   ],
   "source": [
    "cross_val_score(model, X_train, y_train, cv=3, scoring=my_custom_scorer)"
   ]
  },
  {
   "cell_type": "code",
   "execution_count": 18,
   "metadata": {},
   "outputs": [
    {
     "name": "stderr",
     "output_type": "stream",
     "text": [
      "/Users/vrishank/anaconda3/lib/python3.6/site-packages/sklearn/preprocessing/label.py:151: DeprecationWarning: The truth value of an empty array is ambiguous. Returning False, but in future this will result in an error. Use `array.size > 0` to check that an array is not empty.\n",
      "  if diff:\n"
     ]
    }
   ],
   "source": [
    "y_preds = model.predict(leaderboard_trans)"
   ]
  },
  {
   "cell_type": "code",
   "execution_count": null,
   "metadata": {
    "collapsed": true
   },
   "outputs": [],
   "source": []
  }
 ],
 "metadata": {
  "kernelspec": {
   "display_name": "Python 3",
   "language": "python",
   "name": "python3"
  },
  "language_info": {
   "codemirror_mode": {
    "name": "ipython",
    "version": 3
   },
   "file_extension": ".py",
   "mimetype": "text/x-python",
   "name": "python",
   "nbconvert_exporter": "python",
   "pygments_lexer": "ipython3",
   "version": "3.6.3"
  }
 },
 "nbformat": 4,
 "nbformat_minor": 2
}
