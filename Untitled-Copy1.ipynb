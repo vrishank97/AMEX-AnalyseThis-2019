{
 "cells": [
  {
   "cell_type": "code",
   "execution_count": 13,
   "metadata": {
    "collapsed": true
   },
   "outputs": [],
   "source": [
    "import pandas as pd\n",
    "import matplotlib.pyplot as plt\n",
    "import numpy as np\n",
    "\n",
    "%matplotlib inline"
   ]
  },
  {
   "cell_type": "code",
   "execution_count": 14,
   "metadata": {
    "collapsed": true
   },
   "outputs": [],
   "source": [
    "train = pd.read_csv(\"train.csv\")\n",
    "leaderboard = pd.read_csv(\"leaderboard_dataset.csv\")\n",
    "test = pd.read_csv(\"test.csv\")"
   ]
  },
  {
   "cell_type": "code",
   "execution_count": 15,
   "metadata": {
    "collapsed": true
   },
   "outputs": [],
   "source": [
    "train = train.fillna(0)\n",
    "leaderboard = leaderboard.fillna(0)\n",
    "test = test.fillna(0)"
   ]
  },
  {
   "cell_type": "code",
   "execution_count": 16,
   "metadata": {
    "collapsed": true
   },
   "outputs": [],
   "source": [
    "y = train[\"VAR21\"]\n",
    "X = train.drop([\"VAR21\"], axis=1)"
   ]
  },
  {
   "cell_type": "code",
   "execution_count": 17,
   "metadata": {
    "collapsed": true
   },
   "outputs": [],
   "source": [
    "X = X.drop([\"VAR1\"], axis=1)\n",
    "leaderboard = leaderboard.drop([\"VAR1\"], axis=1)\n",
    "test = test.drop([\"VAR1\"], axis=1)"
   ]
  },
  {
   "cell_type": "code",
   "execution_count": 18,
   "metadata": {
    "collapsed": true
   },
   "outputs": [],
   "source": [
    "from sklearn.preprocessing import LabelEncoder\n",
    "\n",
    "for c in X.columns:\n",
    "    if X[c].dtype == 'object':\n",
    "        lbl = LabelEncoder() \n",
    "        lbl.fit(list(X[c].values) + list(test[c].values) + list(leaderboard[c].values)) \n",
    "        X[c] = lbl.transform(list(X[c].values))\n",
    "        test[c] = lbl.transform(list(test[c].values))\n",
    "        leaderboard[c] = lbl.transform(list(leaderboard[c].values))"
   ]
  },
  {
   "cell_type": "code",
   "execution_count": 19,
   "metadata": {
    "collapsed": true
   },
   "outputs": [],
   "source": [
    "lbl = LabelEncoder() \n",
    "lbl.fit(list(y.values)) \n",
    "y = lbl.transform(list(y))"
   ]
  },
  {
   "cell_type": "code",
   "execution_count": 20,
   "metadata": {},
   "outputs": [
    {
     "data": {
      "text/plain": [
       "array([1, 0, 2, ..., 1, 1, 0])"
      ]
     },
     "execution_count": 20,
     "metadata": {},
     "output_type": "execute_result"
    }
   ],
   "source": [
    "y"
   ]
  },
  {
   "cell_type": "code",
   "execution_count": 21,
   "metadata": {
    "collapsed": true
   },
   "outputs": [],
   "source": [
    "from sklearn.random_projection import GaussianRandomProjection, SparseRandomProjection\n",
    "from sklearn.decomposition import PCA, FastICA\n",
    "from sklearn.decomposition import TruncatedSVD\n",
    "n_comp = 12\n",
    "\n",
    "# tSVD\n",
    "tsvd = TruncatedSVD(n_components=n_comp, random_state=420)\n",
    "tsvd_results_X = tsvd.fit_transform(X)\n",
    "tsvd_results_test = tsvd.transform(test)\n",
    "tsvd_results_leaderboard = tsvd.transform(leaderboard)\n",
    "\n",
    "# PCA\n",
    "pca = PCA(n_components=12, random_state=420)\n",
    "pca2_results_X = pca.fit_transform(X)\n",
    "pca2_results_test = pca.transform(test)\n",
    "pca2_results_leaderboard = pca.transform(leaderboard)\n",
    "\n",
    "# ICA\n",
    "ica = FastICA(n_components=12, random_state=420)\n",
    "ica2_results_X = ica.fit_transform(X)\n",
    "ica2_results_test = ica.transform(test)\n",
    "ica2_results_leaderboard = ica.transform(leaderboard)\n",
    "\n",
    "# GRP\n",
    "grp = GaussianRandomProjection(n_components=n_comp, eps=0.1, random_state=420)\n",
    "grp_results_X = grp.fit_transform(X)\n",
    "grp_results_test = grp.transform(test)\n",
    "grp_results_leaderboard = grp.transform(leaderboard)\n",
    "\n",
    "# SRP\n",
    "srp = SparseRandomProjection(n_components=n_comp, dense_output=True, random_state=420)\n",
    "srp_results_X = srp.fit_transform(X)\n",
    "srp_results_test = srp.transform(test)\n",
    "srp_results_leaderboard = srp.transform(leaderboard)\n",
    "\n",
    "X_trans = X\n",
    "\n",
    "# Append decomposition components to datasets\n",
    "for i in range(1, n_comp+1):\n",
    "    X_trans['pca_' + str(i)] = pca2_results_X[:,i-1]\n",
    "    test['pca_' + str(i)] = pca2_results_test[:, i-1]\n",
    "    leaderboard['pca_' + str(i)] = pca2_results_leaderboard[:, i-1]\n",
    "    \n",
    "    X_trans['ica_' + str(i)] = ica2_results_X[:,i-1]\n",
    "    test['ica_' + str(i)] = ica2_results_test[:, i-1]\n",
    "    leaderboard['ica_' + str(i)] = ica2_results_leaderboard[:, i-1]\n",
    "\n",
    "    X_trans['tsvd_' + str(i)] = tsvd_results_X[:,i-1]\n",
    "    test['tsvd_' + str(i)] = tsvd_results_test[:, i-1]\n",
    "    leaderboard['tsvd_' + str(i)] = tsvd_results_leaderboard[:, i-1]\n",
    "    \n",
    "    X_trans['grp_' + str(i)] = grp_results_X[:,i-1]\n",
    "    test['grp_' + str(i)] = grp_results_test[:, i-1]\n",
    "    leaderboard['grp_' + str(i)] = grp_results_leaderboard[:, i-1]\n",
    "    \n",
    "    X_trans['srp_' + str(i)] = srp_results_X[:,i-1]\n",
    "    test['srp_' + str(i)] = srp_results_test[:, i-1]\n",
    "    leaderboard['srp_' + str(i)] = srp_results_leaderboard[:, i-1]"
   ]
  },
  {
   "cell_type": "code",
   "execution_count": 84,
   "metadata": {
    "collapsed": true
   },
   "outputs": [],
   "source": [
    "y_leaderboard = clf.predict(leaderboard)"
   ]
  },
  {
   "cell_type": "code",
   "execution_count": 133,
   "metadata": {
    "collapsed": true
   },
   "outputs": [],
   "source": [
    "d = {'col1': leaderboard[\"VAR1\"], 'col2': y_leaderboard}\n",
    "df = pd.DataFrame(data=d)"
   ]
  },
  {
   "cell_type": "code",
   "execution_count": 120,
   "metadata": {
    "collapsed": true
   },
   "outputs": [],
   "source": [
    "d = {'col1': leaderboard[\"VAR1\"], 'col2': [int(i) for i in y_preds]}\n",
    "df = pd.DataFrame(data=d)"
   ]
  },
  {
   "cell_type": "code",
   "execution_count": 134,
   "metadata": {
    "collapsed": true
   },
   "outputs": [],
   "source": [
    "df[\"col2\"][df[\"col2\"] == 0] = \"High\"\n",
    "df[\"col2\"][df[\"col2\"] == 1] = \"Low\"\n",
    "df[\"col2\"][df[\"col2\"] == 2] = \"Medium\""
   ]
  },
  {
   "cell_type": "code",
   "execution_count": 135,
   "metadata": {
    "collapsed": true
   },
   "outputs": [],
   "source": [
    "df.to_csv(\"Quant404 _IITGuwahati_10.csv\", index=False, header=False)"
   ]
  },
  {
   "cell_type": "code",
   "execution_count": null,
   "metadata": {},
   "outputs": [
    {
     "name": "stdout",
     "output_type": "stream",
     "text": [
      "[0]\ttrain-mlogloss:1.09566+4.15077e-05\ttest-mlogloss:1.09585+2.99592e-05\n",
      "[50]\ttrain-mlogloss:0.987976+0.0015813\ttest-mlogloss:0.996494+0.00139471\n",
      "[100]\ttrain-mlogloss:0.92762+0.00225673\ttest-mlogloss:0.943512+0.00259833\n"
     ]
    }
   ],
   "source": [
    "import xgboost as xgb\n",
    "\n",
    "# prepare dict of params for xgboost to run with\n",
    "xgb_params = {\n",
    "    'n_trees': 700, \n",
    "    'eta': 0.01,\n",
    "    'max_depth': 5,\n",
    "    'subsample': 0.93,\n",
    "    'objective': 'multi:softmax',\n",
    "    'eval_metric': 'mlogloss',\n",
    "    'silent': 1,\n",
    "    'num_class' :3\n",
    "}\n",
    "\n",
    "# form DMatrices for Xgboost training\n",
    "dtrain = xgb.DMatrix(X, y)\n",
    "dtest = xgb.DMatrix(leaderboard)\n",
    "\n",
    "# xgboost, cross-validation\n",
    "cv_result = xgb.cv(xgb_params, \n",
    "                   dtrain, \n",
    "                   num_boost_round=700, # increase to have better results (~700)\n",
    "                   verbose_eval=50, \n",
    "                  )\n",
    "\n",
    "num_boost_rounds = len(cv_result)\n",
    "print('num_boost_rounds=' + str(num_boost_rounds))\n",
    "\n",
    "# train model\n",
    "model = xgb.train(dict(xgb_params, silent=1), dtrain, num_boost_round=num_boost_rounds)\n",
    "\n",
    "\n",
    "# check f2-score (to get higher score - increase num_boost_round in previous cell)\n",
    "\n",
    "# make predictions and save results\n",
    "y_preds = model.predict(dtest)\n"
   ]
  },
  {
   "cell_type": "code",
   "execution_count": null,
   "metadata": {
    "collapsed": true
   },
   "outputs": [],
   "source": [
    "import xgboost as xgb\n",
    "\n",
    "# prepare dict of params for xgboost to run with\n",
    "xgb_params = {\n",
    "    'n_trees': 700, \n",
    "    'eta': 0.01,\n",
    "    'max_depth': 5,\n",
    "    'subsample': 0.93,\n",
    "    'objective': 'multi:softmax',\n",
    "    'eval_metric': 'mlogloss',\n",
    "    'silent': 1,\n",
    "    'num_class' :3\n",
    "}\n",
    "\n",
    "# form DMatrices for Xgboost training\n",
    "dtrain = xgb.DMatrix(X, y)\n",
    "dtest = xgb.DMatrix(leaderboard)\n",
    "\n",
    "# xgboost, cross-validation\n",
    "cv_result = xgb.cv(xgb_params, \n",
    "                   dtrain, \n",
    "                   num_boost_round=700, # increase to have better results (~700)\n",
    "                   verbose_eval=50, \n",
    "                  )\n",
    "\n",
    "num_boost_rounds = len(cv_result)\n",
    "print('num_boost_rounds=' + str(num_boost_rounds))\n",
    "\n",
    "# train model\n",
    "model = xgb.train(dict(xgb_params, silent=1), dtrain, num_boost_round=num_boost_rounds)\n",
    "\n",
    "\n",
    "# check f2-score (to get higher score - increase num_boost_round in previous cell)\n",
    "\n",
    "# make predictions and save results\n",
    "y_preds = model.predict(dtest)\n"
   ]
  },
  {
   "cell_type": "code",
   "execution_count": 23,
   "metadata": {},
   "outputs": [],
   "source": [
    "from sklearn.model_selection import train_test_split\n",
    "from sklearn.metrics.scorer import make_scorer\n",
    "\n",
    "\n",
    "def my_custom_accuracy(y_true, y_pred):\n",
    "    total=0\n",
    "    for t,p in zip(y_true, y_pred):\n",
    "        if(t==p):\n",
    "            total+=1000\n",
    "        if(t==0 and p==1):\n",
    "            total-=100\n",
    "        if(t==0 and p==2):\n",
    "            total-=50\n",
    "        if(t==2 and p==1):\n",
    "            total-=50\n",
    "        if(t==2 and p==0):\n",
    "            total-=100\n",
    "        if(t==1 and p==2):\n",
    "            total-=100\n",
    "        if(t==1 and p==0):\n",
    "            total-=200\n",
    "    return float(sum(y_pred == y_true))\n",
    "\n",
    "# Make a custom a scorer from the custom metric function\n",
    "# Note: greater_is_better=False in make_scorer below would mean that the scoring function should be minimized.\n",
    "my_custom_scorer = make_scorer(my_custom_accuracy, greater_is_better=True)\n",
    "X_train, X_test, y_train, y_test = train_test_split(X, y,\n",
    "                                                    train_size=30000, test_size=4000)\n",
    "\n",
    "#tpot = TPOTClassifier(generations=10, population_size=20, verbosity=3, scoring=my_custom_scorer, cv=3)"
   ]
  },
  {
   "cell_type": "code",
   "execution_count": null,
   "metadata": {},
   "outputs": [
    {
     "name": "stdout",
     "output_type": "stream",
     "text": [
      "30 operators have been imported by TPOT.\n"
     ]
    },
    {
     "data": {
      "application/vnd.jupyter.widget-view+json": {
       "model_id": "719362ece2a14f2abcc93ef5ca289e4c",
       "version_major": 2,
       "version_minor": 0
      },
      "text/plain": [
       "A Jupyter Widget"
      ]
     },
     "metadata": {},
     "output_type": "display_data"
    },
    {
     "name": "stdout",
     "output_type": "stream",
     "text": [
      "Skipped pipeline #14 due to time out. Continuing to the next pipeline.\n",
      "Skipped pipeline #17 due to time out. Continuing to the next pipeline.\n"
     ]
    }
   ],
   "source": [
    "tpot.fit(X_train, y_train)"
   ]
  },
  {
   "cell_type": "code",
   "execution_count": null,
   "metadata": {
    "collapsed": true
   },
   "outputs": [],
   "source": []
  }
 ],
 "metadata": {
  "kernelspec": {
   "display_name": "Python 3",
   "language": "python",
   "name": "python3"
  },
  "language_info": {
   "codemirror_mode": {
    "name": "ipython",
    "version": 3
   },
   "file_extension": ".py",
   "mimetype": "text/x-python",
   "name": "python",
   "nbconvert_exporter": "python",
   "pygments_lexer": "ipython3",
   "version": "3.6.3"
  }
 },
 "nbformat": 4,
 "nbformat_minor": 2
}
