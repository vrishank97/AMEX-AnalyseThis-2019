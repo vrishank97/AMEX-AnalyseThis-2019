{
 "cells": [
  {
   "cell_type": "code",
   "execution_count": 1,
   "metadata": {
    "collapsed": true
   },
   "outputs": [],
   "source": [
    "import pandas as pd\n",
    "import matplotlib.pyplot as plt\n",
    "import numpy as np\n",
    "\n",
    "%matplotlib inline"
   ]
  },
  {
   "cell_type": "code",
   "execution_count": 2,
   "metadata": {
    "collapsed": true
   },
   "outputs": [],
   "source": [
    "train = pd.read_csv(\"train.csv\")\n",
    "leaderboard = pd.read_csv(\"leaderboard_dataset.csv\")\n",
    "test = pd.read_csv(\"test.csv\")"
   ]
  },
  {
   "cell_type": "code",
   "execution_count": 3,
   "metadata": {
    "collapsed": true
   },
   "outputs": [],
   "source": [
    "y = train[\"VAR21\"]\n",
    "X = train.drop([\"VAR21\"], axis=1)"
   ]
  },
  {
   "cell_type": "code",
   "execution_count": 4,
   "metadata": {
    "collapsed": true
   },
   "outputs": [],
   "source": [
    "from sklearn.preprocessing import LabelEncoder\n",
    "\n",
    "for c in X.columns:\n",
    "    if X[c].dtype == 'object':\n",
    "        lbl = LabelEncoder() \n",
    "        lbl.fit(list(X[c].values) + list(test[c].values) + list(leaderboard[c].values)) \n",
    "        X[c] = lbl.transform(list(X[c].values))\n",
    "        test[c] = lbl.transform(list(test[c].values))\n",
    "        leaderboard[c] = lbl.transform(list(leaderboard[c].values))"
   ]
  },
  {
   "cell_type": "code",
   "execution_count": 5,
   "metadata": {
    "collapsed": true
   },
   "outputs": [],
   "source": [
    "lbl = LabelEncoder() \n",
    "lbl.fit(list(y.values)) \n",
    "y = lbl.transform(list(y))"
   ]
  },
  {
   "cell_type": "code",
   "execution_count": 6,
   "metadata": {},
   "outputs": [
    {
     "data": {
      "text/plain": [
       "array([1, 0, 2, ..., 1, 1, 0])"
      ]
     },
     "execution_count": 6,
     "metadata": {},
     "output_type": "execute_result"
    }
   ],
   "source": [
    "y"
   ]
  },
  {
   "cell_type": "code",
   "execution_count": 115,
   "metadata": {},
   "outputs": [
    {
     "data": {
      "text/plain": [
       "<matplotlib.axes._subplots.AxesSubplot at 0x1256f64a8>"
      ]
     },
     "execution_count": 115,
     "metadata": {},
     "output_type": "execute_result"
    },
    {
     "data": {
      "image/png": "[encoded data removed]",
      "text/plain": [
       "<Figure size 432x288 with 1 Axes>"
      ]
     },
     "metadata": {},
     "output_type": "display_data"
    }
   ],
   "source": [
    "from imblearn.ensemble import BalancedRandomForestClassifier\n",
    "\n",
    "clf = BalancedRandomForestClassifier(max_depth=2, random_state=0)\n",
    "clf.fit(X, y)\n",
    "clf.feature_importances_\n",
    "\n",
    "(pd.Series(clf.feature_importances_, index=X.columns)\n",
    "   .nlargest(6)\n",
    "   .plot(kind='barh'))"
   ]
  },
  {
   "cell_type": "code",
   "execution_count": 116,
   "metadata": {
    "collapsed": true
   },
   "outputs": [],
   "source": [
    "a = pd.Series(clf.feature_importances_, index=X.columns).nlargest(10)\n",
    "b = a.index.get_values().tolist()"
   ]
  },
  {
   "cell_type": "code",
   "execution_count": 117,
   "metadata": {},
   "outputs": [
    {
     "data": {
      "text/plain": [
       "['VAR3',\n",
       " 'VAR20',\n",
       " 'VAR13',\n",
       " 'VAR15',\n",
       " 'VAR2',\n",
       " 'VAR7',\n",
       " 'VAR16',\n",
       " 'VAR4',\n",
       " 'VAR12',\n",
       " 'VAR8',\n",
       " 'VAR1']"
      ]
     },
     "execution_count": 117,
     "metadata": {},
     "output_type": "execute_result"
    }
   ],
   "source": [
    "b.append(\"VAR1\")\n",
    "b"
   ]
  },
  {
   "cell_type": "code",
   "execution_count": 118,
   "metadata": {
    "collapsed": true
   },
   "outputs": [],
   "source": [
    "X = X[b]\n",
    "leaderboard = leaderboard[b]\n",
    "test = test[b]"
   ]
  },
  {
   "cell_type": "code",
   "execution_count": 119,
   "metadata": {
    "collapsed": true
   },
   "outputs": [],
   "source": [
    "from sklearn.random_projection import GaussianRandomProjection, SparseRandomProjection\n",
    "from sklearn.decomposition import PCA, FastICA\n",
    "from sklearn.decomposition import TruncatedSVD\n",
    "n_comp = 4\n",
    "\n",
    "# tSVD\n",
    "tsvd = TruncatedSVD(n_components=n_comp, random_state=420)\n",
    "tsvd_results_X = tsvd.fit_transform(X)\n",
    "tsvd_results_test = tsvd.transform(test)\n",
    "tsvd_results_leaderboard = tsvd.transform(leaderboard)\n",
    "\n",
    "# PCA\n",
    "pca = PCA(n_components=n_comp, random_state=420)\n",
    "pca2_results_X = pca.fit_transform(X)\n",
    "pca2_results_test = pca.transform(test)\n",
    "pca2_results_leaderboard = pca.transform(leaderboard)\n",
    "\n",
    "# ICA\n",
    "ica = FastICA(n_components=n_comp, random_state=420)\n",
    "ica2_results_X = ica.fit_transform(X)\n",
    "ica2_results_test = ica.transform(test)\n",
    "ica2_results_leaderboard = ica.transform(leaderboard)\n",
    "\n",
    "#X_trans = X[[\"VAR1\"]]\n",
    "#leaderboard_trans = leaderboard[[\"VAR1\"]]\n",
    "#test_trans = test[[\"VAR1\"]]\n",
    "\n",
    "# Append decomposition components to datasets\n",
    "for i in range(1, n_comp+1):\n",
    "    X_trans['pca_' + str(i)] = pca2_results_X[:,i-1]\n",
    "    test_trans['pca_' + str(i)] = pca2_results_test[:, i-1]\n",
    "    leaderboard_trans['pca_' + str(i)] = pca2_results_leaderboard[:, i-1]\n",
    "    \n",
    "    X_trans['ica_' + str(i)] = ica2_results_X[:,i-1]\n",
    "    test_trans['ica_' + str(i)] = ica2_results_test[:, i-1]\n",
    "    leaderboard_trans['ica_' + str(i)] = ica2_results_leaderboard[:, i-1]\n",
    "\n",
    "    X_trans['tsvd_' + str(i)] = tsvd_results_X[:,i-1]\n",
    "    test_trans['tsvd_' + str(i)] = tsvd_results_test[:, i-1]\n",
    "    leaderboard_trans['tsvd_' + str(i)] = tsvd_results_leaderboard[:, i-1]"
   ]
  },
  {
   "cell_type": "code",
   "execution_count": 8,
   "metadata": {},
   "outputs": [
    {
     "name": "stdout",
     "output_type": "stream",
     "text": [
      "[0]\ttrain-mlogloss:1.0983+2.49444e-06\ttest-mlogloss:1.09832+5.35413e-06\n",
      "[50]\ttrain-mlogloss:1.08321+0.000166033\ttest-mlogloss:1.08451+0.000146293\n",
      "[100]\ttrain-mlogloss:1.06912+0.00032876\ttest-mlogloss:1.07165+0.000281156\n",
      "[150]\ttrain-mlogloss:1.05592+0.000486011\ttest-mlogloss:1.05968+0.000418673\n",
      "[200]\ttrain-mlogloss:1.04356+0.000643653\ttest-mlogloss:1.04851+0.000543298\n",
      "[250]\ttrain-mlogloss:1.03196+0.000778771\ttest-mlogloss:1.03808+0.000650517\n",
      "[300]\ttrain-mlogloss:1.02105+0.000912785\ttest-mlogloss:1.02834+0.000767556\n",
      "[350]\ttrain-mlogloss:1.0108+0.00104006\ttest-mlogloss:1.01923+0.000890908\n",
      "[400]\ttrain-mlogloss:1.00114+0.00115396\ttest-mlogloss:1.01068+0.000980772\n",
      "[450]\ttrain-mlogloss:0.992022+0.00126652\ttest-mlogloss:1.00267+0.00109152\n",
      "[500]\ttrain-mlogloss:0.983411+0.00136294\ttest-mlogloss:0.995144+0.00119784\n",
      "[550]\ttrain-mlogloss:0.975285+0.00146057\ttest-mlogloss:0.988092+0.00129991\n",
      "[600]\ttrain-mlogloss:0.967584+0.00153384\ttest-mlogloss:0.98146+0.00141603\n",
      "[650]\ttrain-mlogloss:0.960297+0.00160477\ttest-mlogloss:0.975231+0.00153793\n",
      "[700]\ttrain-mlogloss:0.953383+0.0016728\ttest-mlogloss:0.969362+0.00165213\n",
      "[750]\ttrain-mlogloss:0.946817+0.00171299\ttest-mlogloss:0.963843+0.00177677\n",
      "[800]\ttrain-mlogloss:0.940588+0.00175693\ttest-mlogloss:0.958651+0.0018993\n",
      "[850]\ttrain-mlogloss:0.934671+0.00179987\ttest-mlogloss:0.953746+0.00202486\n",
      "[900]\ttrain-mlogloss:0.929045+0.00182798\ttest-mlogloss:0.949117+0.00215071\n",
      "[950]\ttrain-mlogloss:0.923691+0.00185716\ttest-mlogloss:0.944769+0.00227204\n",
      "[1000]\ttrain-mlogloss:0.918581+0.00188372\ttest-mlogloss:0.940657+0.00239629\n",
      "[1050]\ttrain-mlogloss:0.913731+0.00191568\ttest-mlogloss:0.936795+0.00251764\n",
      "[1100]\ttrain-mlogloss:0.909081+0.00192272\ttest-mlogloss:0.933127+0.0026477\n",
      "[1150]\ttrain-mlogloss:0.904643+0.0019302\ttest-mlogloss:0.929663+0.00277288\n",
      "[1200]\ttrain-mlogloss:0.900416+0.00194781\ttest-mlogloss:0.926399+0.00289379\n",
      "[1250]\ttrain-mlogloss:0.896356+0.0019567\ttest-mlogloss:0.923286+0.00301764\n",
      "[1300]\ttrain-mlogloss:0.892476+0.00196376\ttest-mlogloss:0.920355+0.00313796\n",
      "[1350]\ttrain-mlogloss:0.888764+0.00198048\ttest-mlogloss:0.91757+0.00325299\n",
      "[1400]\ttrain-mlogloss:0.885198+0.00199007\ttest-mlogloss:0.914944+0.00336211\n",
      "[1450]\ttrain-mlogloss:0.881781+0.00200026\ttest-mlogloss:0.912445+0.0034657\n",
      "[1500]\ttrain-mlogloss:0.878499+0.00201357\ttest-mlogloss:0.910089+0.00355959\n",
      "[1550]\ttrain-mlogloss:0.875351+0.00202202\ttest-mlogloss:0.907856+0.00366907\n",
      "[1600]\ttrain-mlogloss:0.872319+0.00203426\ttest-mlogloss:0.905727+0.00376767\n",
      "[1650]\ttrain-mlogloss:0.86941+0.00204055\ttest-mlogloss:0.903719+0.00386559\n",
      "[1700]\ttrain-mlogloss:0.866585+0.00205255\ttest-mlogloss:0.9018+0.00395222\n",
      "[1750]\ttrain-mlogloss:0.863873+0.00207354\ttest-mlogloss:0.899981+0.00404423\n",
      "[1800]\ttrain-mlogloss:0.861247+0.00208085\ttest-mlogloss:0.898239+0.00413309\n",
      "[1850]\ttrain-mlogloss:0.858712+0.00209439\ttest-mlogloss:0.896605+0.00422424\n",
      "[1900]\ttrain-mlogloss:0.856263+0.00211292\ttest-mlogloss:0.895041+0.0043012\n",
      "[1950]\ttrain-mlogloss:0.853902+0.00211662\ttest-mlogloss:0.893557+0.00439249\n",
      "[2000]\ttrain-mlogloss:0.851602+0.00213907\ttest-mlogloss:0.892129+0.00446536\n",
      "[2050]\ttrain-mlogloss:0.849389+0.00214437\ttest-mlogloss:0.890788+0.00454401\n",
      "[2100]\ttrain-mlogloss:0.847238+0.00216574\ttest-mlogloss:0.889493+0.00460905\n",
      "[2150]\ttrain-mlogloss:0.845158+0.00217285\ttest-mlogloss:0.888269+0.00468752\n",
      "[2200]\ttrain-mlogloss:0.843134+0.00219388\ttest-mlogloss:0.887103+0.00475477\n",
      "[2250]\ttrain-mlogloss:0.841179+0.00220835\ttest-mlogloss:0.885999+0.00482369\n",
      "[2300]\ttrain-mlogloss:0.839271+0.0022254\ttest-mlogloss:0.884941+0.00488339\n",
      "[2350]\ttrain-mlogloss:0.837411+0.00223339\ttest-mlogloss:0.883929+0.00494871\n",
      "[2400]\ttrain-mlogloss:0.835607+0.00224228\ttest-mlogloss:0.882973+0.00500162\n",
      "[2450]\ttrain-mlogloss:0.833848+0.00225868\ttest-mlogloss:0.88205+0.00504667\n",
      "[2500]\ttrain-mlogloss:0.832144+0.00226332\ttest-mlogloss:0.881174+0.00511115\n",
      "[2550]\ttrain-mlogloss:0.830486+0.00227755\ttest-mlogloss:0.880338+0.00517072\n",
      "[2600]\ttrain-mlogloss:0.828867+0.00229319\ttest-mlogloss:0.879532+0.0052167\n",
      "[2650]\ttrain-mlogloss:0.827289+0.00230468\ttest-mlogloss:0.878764+0.00526482\n",
      "[2700]\ttrain-mlogloss:0.82574+0.00231112\ttest-mlogloss:0.878036+0.00531267\n",
      "[2750]\ttrain-mlogloss:0.82423+0.00230052\ttest-mlogloss:0.877338+0.00537145\n",
      "[2800]\ttrain-mlogloss:0.822764+0.00229022\ttest-mlogloss:0.876668+0.00541316\n",
      "[2850]\ttrain-mlogloss:0.821328+0.00228524\ttest-mlogloss:0.876031+0.00545268\n",
      "[2900]\ttrain-mlogloss:0.819925+0.00228813\ttest-mlogloss:0.875422+0.00549091\n",
      "[2950]\ttrain-mlogloss:0.818568+0.00228721\ttest-mlogloss:0.874845+0.00553909\n",
      "[3000]\ttrain-mlogloss:0.81723+0.00228065\ttest-mlogloss:0.874287+0.00557309\n",
      "[3050]\ttrain-mlogloss:0.815929+0.00227214\ttest-mlogloss:0.873747+0.0056005\n",
      "[3100]\ttrain-mlogloss:0.814669+0.00225866\ttest-mlogloss:0.873244+0.00563528\n",
      "[3150]\ttrain-mlogloss:0.813416+0.00225335\ttest-mlogloss:0.872751+0.00566772\n",
      "[3200]\ttrain-mlogloss:0.812198+0.00222944\ttest-mlogloss:0.87229+0.00570944\n",
      "[3250]\ttrain-mlogloss:0.811012+0.0022208\ttest-mlogloss:0.871859+0.0057427\n",
      "[3300]\ttrain-mlogloss:0.809837+0.00221868\ttest-mlogloss:0.871441+0.00577282\n",
      "[3350]\ttrain-mlogloss:0.808676+0.00221066\ttest-mlogloss:0.871032+0.00580759\n",
      "[3400]\ttrain-mlogloss:0.807544+0.00218933\ttest-mlogloss:0.870643+0.00583647\n",
      "[3450]\ttrain-mlogloss:0.806442+0.00219202\ttest-mlogloss:0.870273+0.00586228\n",
      "[3500]\ttrain-mlogloss:0.805361+0.00216239\ttest-mlogloss:0.869921+0.00589127\n",
      "[3550]\ttrain-mlogloss:0.804295+0.00215279\ttest-mlogloss:0.869585+0.00591873\n",
      "[3600]\ttrain-mlogloss:0.803238+0.00214447\ttest-mlogloss:0.869253+0.00594462\n",
      "[3650]\ttrain-mlogloss:0.802202+0.00214334\ttest-mlogloss:0.868937+0.00597768\n",
      "[3700]\ttrain-mlogloss:0.801206+0.00213768\ttest-mlogloss:0.868647+0.00600733\n",
      "[3750]\ttrain-mlogloss:0.800209+0.00211127\ttest-mlogloss:0.868358+0.00603388\n",
      "[3800]\ttrain-mlogloss:0.79923+0.00209596\ttest-mlogloss:0.868084+0.00606602\n",
      "[3850]\ttrain-mlogloss:0.798276+0.00210156\ttest-mlogloss:0.867822+0.00608472\n",
      "[3900]\ttrain-mlogloss:0.79734+0.00209006\ttest-mlogloss:0.867578+0.00610855\n",
      "[3950]\ttrain-mlogloss:0.796403+0.0020866\ttest-mlogloss:0.867345+0.0061291\n",
      "[4000]\ttrain-mlogloss:0.795486+0.00207394\ttest-mlogloss:0.867117+0.00615473\n",
      "[4050]\ttrain-mlogloss:0.794574+0.00205945\ttest-mlogloss:0.866894+0.00618088\n",
      "[4100]\ttrain-mlogloss:0.793671+0.00206531\ttest-mlogloss:0.866692+0.0062009\n",
      "[4150]\ttrain-mlogloss:0.792788+0.00205395\ttest-mlogloss:0.866489+0.00622196\n",
      "[4200]\ttrain-mlogloss:0.791917+0.00205026\ttest-mlogloss:0.866302+0.00624323\n",
      "[4250]\ttrain-mlogloss:0.791047+0.00205961\ttest-mlogloss:0.866122+0.00626616\n",
      "[4300]\ttrain-mlogloss:0.79019+0.00206537\ttest-mlogloss:0.865935+0.00628107\n",
      "[4350]\ttrain-mlogloss:0.789354+0.00206439\ttest-mlogloss:0.865759+0.00630182\n",
      "[4400]\ttrain-mlogloss:0.788536+0.00205419\ttest-mlogloss:0.865594+0.00632473\n",
      "[4450]\ttrain-mlogloss:0.787707+0.0020436\ttest-mlogloss:0.865437+0.00634095\n",
      "[4500]\ttrain-mlogloss:0.786889+0.00205086\ttest-mlogloss:0.865285+0.00635161\n",
      "[4550]\ttrain-mlogloss:0.786078+0.00206553\ttest-mlogloss:0.865142+0.00637247\n",
      "[4600]\ttrain-mlogloss:0.785278+0.00208852\ttest-mlogloss:0.865002+0.00638497\n",
      "[4650]\ttrain-mlogloss:0.784494+0.002095\ttest-mlogloss:0.864868+0.0064099\n",
      "[4700]\ttrain-mlogloss:0.783707+0.00210973\ttest-mlogloss:0.864729+0.00641977\n",
      "[4750]\ttrain-mlogloss:0.782929+0.0021233\ttest-mlogloss:0.864597+0.00643667\n",
      "[4800]\ttrain-mlogloss:0.782163+0.00214646\ttest-mlogloss:0.864478+0.00644569\n",
      "[4850]\ttrain-mlogloss:0.78139+0.00214488\ttest-mlogloss:0.864363+0.00646336\n",
      "[4900]\ttrain-mlogloss:0.78063+0.00216039\ttest-mlogloss:0.86426+0.00647958\n",
      "[4950]\ttrain-mlogloss:0.779869+0.00218564\ttest-mlogloss:0.864147+0.00648942\n",
      "[5000]\ttrain-mlogloss:0.779128+0.00220165\ttest-mlogloss:0.864046+0.00650192\n",
      "[5050]\ttrain-mlogloss:0.778401+0.00221092\ttest-mlogloss:0.863955+0.00650924\n",
      "[5100]\ttrain-mlogloss:0.777649+0.00223275\ttest-mlogloss:0.863854+0.00651865\n",
      "[5150]\ttrain-mlogloss:0.77693+0.00224042\ttest-mlogloss:0.863764+0.00652838\n",
      "[5200]\ttrain-mlogloss:0.776199+0.00223751\ttest-mlogloss:0.863672+0.00654474\n",
      "[5250]\ttrain-mlogloss:0.775472+0.0022458\ttest-mlogloss:0.86359+0.00655644\n",
      "[5300]\ttrain-mlogloss:0.774764+0.00227337\ttest-mlogloss:0.863504+0.00657209\n",
      "[5350]\ttrain-mlogloss:0.774048+0.00230757\ttest-mlogloss:0.86342+0.00658302\n",
      "[5400]\ttrain-mlogloss:0.773346+0.00230942\ttest-mlogloss:0.863342+0.00659171\n"
     ]
    },
    {
     "name": "stdout",
     "output_type": "stream",
     "text": [
      "[5450]\ttrain-mlogloss:0.772638+0.00231211\ttest-mlogloss:0.86326+0.00660025\n",
      "[5500]\ttrain-mlogloss:0.771952+0.0023346\ttest-mlogloss:0.863188+0.00660989\n",
      "[5550]\ttrain-mlogloss:0.77128+0.00234897\ttest-mlogloss:0.863122+0.00662162\n",
      "[5600]\ttrain-mlogloss:0.770581+0.00237499\ttest-mlogloss:0.863048+0.00663358\n",
      "[5650]\ttrain-mlogloss:0.769893+0.00240694\ttest-mlogloss:0.862982+0.00664177\n",
      "[5700]\ttrain-mlogloss:0.769228+0.00241198\ttest-mlogloss:0.862916+0.00665734\n",
      "[5750]\ttrain-mlogloss:0.768566+0.00243788\ttest-mlogloss:0.862853+0.0066669\n",
      "[5800]\ttrain-mlogloss:0.767896+0.00245134\ttest-mlogloss:0.862786+0.00667058\n",
      "[5850]\ttrain-mlogloss:0.767251+0.00244712\ttest-mlogloss:0.862722+0.00667658\n",
      "[5900]\ttrain-mlogloss:0.766581+0.0024675\ttest-mlogloss:0.862667+0.00668948\n",
      "[5950]\ttrain-mlogloss:0.765909+0.00247838\ttest-mlogloss:0.862616+0.00669819\n",
      "[6000]\ttrain-mlogloss:0.765254+0.00250309\ttest-mlogloss:0.862568+0.00670997\n",
      "[6050]\ttrain-mlogloss:0.764581+0.00252488\ttest-mlogloss:0.86252+0.00672854\n",
      "[6100]\ttrain-mlogloss:0.763936+0.00253477\ttest-mlogloss:0.86248+0.0067376\n",
      "[6150]\ttrain-mlogloss:0.763284+0.00254488\ttest-mlogloss:0.862432+0.00674721\n",
      "[6200]\ttrain-mlogloss:0.762663+0.00256657\ttest-mlogloss:0.862394+0.00675937\n",
      "[6250]\ttrain-mlogloss:0.762007+0.00257348\ttest-mlogloss:0.86236+0.00676929\n",
      "[6300]\ttrain-mlogloss:0.761375+0.00258437\ttest-mlogloss:0.862325+0.00678047\n",
      "[6350]\ttrain-mlogloss:0.760757+0.00259378\ttest-mlogloss:0.862285+0.00679054\n",
      "[6400]\ttrain-mlogloss:0.760143+0.00260397\ttest-mlogloss:0.862247+0.00680277\n",
      "[6450]\ttrain-mlogloss:0.759513+0.00262714\ttest-mlogloss:0.862209+0.00680698\n",
      "[6500]\ttrain-mlogloss:0.758907+0.00262734\ttest-mlogloss:0.86217+0.00681579\n",
      "[6550]\ttrain-mlogloss:0.758303+0.0026287\ttest-mlogloss:0.86214+0.0068204\n",
      "[6600]\ttrain-mlogloss:0.757675+0.00263957\ttest-mlogloss:0.862109+0.0068223\n",
      "[6650]\ttrain-mlogloss:0.757072+0.00264047\ttest-mlogloss:0.862082+0.00682856\n",
      "[6700]\ttrain-mlogloss:0.756472+0.00262731\ttest-mlogloss:0.862052+0.00684075\n",
      "[6750]\ttrain-mlogloss:0.755872+0.00263203\ttest-mlogloss:0.862027+0.0068451\n",
      "[6800]\ttrain-mlogloss:0.755274+0.00263449\ttest-mlogloss:0.861998+0.00685468\n",
      "[6850]\ttrain-mlogloss:0.754683+0.00264233\ttest-mlogloss:0.861976+0.00686205\n",
      "[6900]\ttrain-mlogloss:0.754096+0.00266828\ttest-mlogloss:0.861953+0.00686767\n",
      "[6950]\ttrain-mlogloss:0.753511+0.00266536\ttest-mlogloss:0.861935+0.00688533\n",
      "[7000]\ttrain-mlogloss:0.75292+0.00266922\ttest-mlogloss:0.86192+0.0068973\n"
     ]
    },
    {
     "ename": "KeyboardInterrupt",
     "evalue": "",
     "output_type": "error",
     "traceback": [
      "\u001b[0;31m---------------------------------------------------------------------------\u001b[0m",
      "\u001b[0;31mKeyboardInterrupt\u001b[0m                         Traceback (most recent call last)",
      "\u001b[0;32m<ipython-input-8-be3183c2c1aa>\u001b[0m in \u001b[0;36m<module>\u001b[0;34m()\u001b[0m\n\u001b[1;32m     22\u001b[0m                    \u001b[0mnum_boost_round\u001b[0m\u001b[0;34m=\u001b[0m\u001b[0;36m10000\u001b[0m\u001b[0;34m,\u001b[0m \u001b[0;31m# increase to have better results (~700)\u001b[0m\u001b[0;34m\u001b[0m\u001b[0m\n\u001b[1;32m     23\u001b[0m                    \u001b[0mverbose_eval\u001b[0m\u001b[0;34m=\u001b[0m\u001b[0;36m50\u001b[0m\u001b[0;34m,\u001b[0m\u001b[0;34m\u001b[0m\u001b[0m\n\u001b[0;32m---> 24\u001b[0;31m                    \u001b[0mearly_stopping_rounds\u001b[0m\u001b[0;34m=\u001b[0m\u001b[0;36m50\u001b[0m\u001b[0;34m\u001b[0m\u001b[0m\n\u001b[0m\u001b[1;32m     25\u001b[0m                   )\n\u001b[1;32m     26\u001b[0m \u001b[0;34m\u001b[0m\u001b[0m\n",
      "\u001b[0;32m~/anaconda3/lib/python3.6/site-packages/xgboost/training.py\u001b[0m in \u001b[0;36mcv\u001b[0;34m(params, dtrain, num_boost_round, nfold, stratified, folds, metrics, obj, feval, maximize, early_stopping_rounds, fpreproc, as_pandas, verbose_eval, show_stdv, seed, callbacks, shuffle)\u001b[0m\n\u001b[1;32m    404\u001b[0m                            evaluation_result_list=None))\n\u001b[1;32m    405\u001b[0m         \u001b[0;32mfor\u001b[0m \u001b[0mfold\u001b[0m \u001b[0;32min\u001b[0m \u001b[0mcvfolds\u001b[0m\u001b[0;34m:\u001b[0m\u001b[0;34m\u001b[0m\u001b[0m\n\u001b[0;32m--> 406\u001b[0;31m             \u001b[0mfold\u001b[0m\u001b[0;34m.\u001b[0m\u001b[0mupdate\u001b[0m\u001b[0;34m(\u001b[0m\u001b[0mi\u001b[0m\u001b[0;34m,\u001b[0m \u001b[0mobj\u001b[0m\u001b[0;34m)\u001b[0m\u001b[0;34m\u001b[0m\u001b[0m\n\u001b[0m\u001b[1;32m    407\u001b[0m         \u001b[0mres\u001b[0m \u001b[0;34m=\u001b[0m \u001b[0maggcv\u001b[0m\u001b[0;34m(\u001b[0m\u001b[0;34m[\u001b[0m\u001b[0mf\u001b[0m\u001b[0;34m.\u001b[0m\u001b[0meval\u001b[0m\u001b[0;34m(\u001b[0m\u001b[0mi\u001b[0m\u001b[0;34m,\u001b[0m \u001b[0mfeval\u001b[0m\u001b[0;34m)\u001b[0m \u001b[0;32mfor\u001b[0m \u001b[0mf\u001b[0m \u001b[0;32min\u001b[0m \u001b[0mcvfolds\u001b[0m\u001b[0;34m]\u001b[0m\u001b[0;34m)\u001b[0m\u001b[0;34m\u001b[0m\u001b[0m\n\u001b[1;32m    408\u001b[0m \u001b[0;34m\u001b[0m\u001b[0m\n",
      "\u001b[0;32m~/anaconda3/lib/python3.6/site-packages/xgboost/training.py\u001b[0m in \u001b[0;36mupdate\u001b[0;34m(self, iteration, fobj)\u001b[0m\n\u001b[1;32m    216\u001b[0m     \u001b[0;32mdef\u001b[0m \u001b[0mupdate\u001b[0m\u001b[0;34m(\u001b[0m\u001b[0mself\u001b[0m\u001b[0;34m,\u001b[0m \u001b[0miteration\u001b[0m\u001b[0;34m,\u001b[0m \u001b[0mfobj\u001b[0m\u001b[0;34m)\u001b[0m\u001b[0;34m:\u001b[0m\u001b[0;34m\u001b[0m\u001b[0m\n\u001b[1;32m    217\u001b[0m         \u001b[0;34m\"\"\"\"Update the boosters for one iteration\"\"\"\u001b[0m\u001b[0;34m\u001b[0m\u001b[0m\n\u001b[0;32m--> 218\u001b[0;31m         \u001b[0mself\u001b[0m\u001b[0;34m.\u001b[0m\u001b[0mbst\u001b[0m\u001b[0;34m.\u001b[0m\u001b[0mupdate\u001b[0m\u001b[0;34m(\u001b[0m\u001b[0mself\u001b[0m\u001b[0;34m.\u001b[0m\u001b[0mdtrain\u001b[0m\u001b[0;34m,\u001b[0m \u001b[0miteration\u001b[0m\u001b[0;34m,\u001b[0m \u001b[0mfobj\u001b[0m\u001b[0;34m)\u001b[0m\u001b[0;34m\u001b[0m\u001b[0m\n\u001b[0m\u001b[1;32m    219\u001b[0m \u001b[0;34m\u001b[0m\u001b[0m\n\u001b[1;32m    220\u001b[0m     \u001b[0;32mdef\u001b[0m \u001b[0meval\u001b[0m\u001b[0;34m(\u001b[0m\u001b[0mself\u001b[0m\u001b[0;34m,\u001b[0m \u001b[0miteration\u001b[0m\u001b[0;34m,\u001b[0m \u001b[0mfeval\u001b[0m\u001b[0;34m)\u001b[0m\u001b[0;34m:\u001b[0m\u001b[0;34m\u001b[0m\u001b[0m\n",
      "\u001b[0;32m~/anaconda3/lib/python3.6/site-packages/xgboost/core.py\u001b[0m in \u001b[0;36mupdate\u001b[0;34m(self, dtrain, iteration, fobj)\u001b[0m\n\u001b[1;32m    893\u001b[0m         \u001b[0;32mif\u001b[0m \u001b[0mfobj\u001b[0m \u001b[0;32mis\u001b[0m \u001b[0;32mNone\u001b[0m\u001b[0;34m:\u001b[0m\u001b[0;34m\u001b[0m\u001b[0m\n\u001b[1;32m    894\u001b[0m             _check_call(_LIB.XGBoosterUpdateOneIter(self.handle, ctypes.c_int(iteration),\n\u001b[0;32m--> 895\u001b[0;31m                                                     dtrain.handle))\n\u001b[0m\u001b[1;32m    896\u001b[0m         \u001b[0;32melse\u001b[0m\u001b[0;34m:\u001b[0m\u001b[0;34m\u001b[0m\u001b[0m\n\u001b[1;32m    897\u001b[0m             \u001b[0mpred\u001b[0m \u001b[0;34m=\u001b[0m \u001b[0mself\u001b[0m\u001b[0;34m.\u001b[0m\u001b[0mpredict\u001b[0m\u001b[0;34m(\u001b[0m\u001b[0mdtrain\u001b[0m\u001b[0;34m)\u001b[0m\u001b[0;34m\u001b[0m\u001b[0m\n",
      "\u001b[0;31mKeyboardInterrupt\u001b[0m: "
     ]
    }
   ],
   "source": [
    "import xgboost as xgb\n",
    "\n",
    "# prepare dict of params for xgboost to run with\n",
    "xgb_params = {\n",
    "    'n_trees': 2000, \n",
    "    'eta': 0.001,\n",
    "    'max_depth': 6,\n",
    "    'subsample': 0.925,\n",
    "    'objective': 'multi:softmax',\n",
    "    'eval_metric': 'mlogloss',\n",
    "    'silent': 1,\n",
    "    'num_class' :3\n",
    "}\n",
    "\n",
    "# form DMatrices for Xgboost training\n",
    "dtrain = xgb.DMatrix(X.drop([\"VAR1\"], axis=1), y)\n",
    "dtest = xgb.DMatrix(leaderboard.drop([\"VAR1\"], axis=1))\n",
    "\n",
    "# xgboost, cross-validation\n",
    "cv_result = xgb.cv(xgb_params, \n",
    "                   dtrain, \n",
    "                   num_boost_round=10000, # increase to have better results (~700)\n",
    "                   verbose_eval=50,\n",
    "                   early_stopping_rounds=50\n",
    "                  )\n",
    "\n",
    "num_boost_rounds = len(cv_result)\n",
    "print('num_boost_rounds=' + str(num_boost_rounds))\n",
    "\n",
    "# train model\n",
    "model = xgb.train(dict(xgb_params, silent=1), dtrain, num_boost_round=num_boost_rounds)\n",
    "\n",
    "\n",
    "# check f2-score (to get higher score - increase num_boost_round in previous cell)\n",
    "\n",
    "# make predictions and save results\n",
    "y_preds = model.predict(dtest)\n",
    "\n",
    "d = {'col1': leaderboard[\"VAR1\"], 'col2': [int(i) for i in y_preds]}\n",
    "df = pd.DataFrame(data=d)\n",
    "df[\"col2\"][df[\"col2\"] == 0] = \"High\"\n",
    "df[\"col2\"][df[\"col2\"] == 1] = \"Low\"\n",
    "df[\"col2\"][df[\"col2\"] == 2] = \"Medium\"\n",
    "\n",
    "import shutil \n",
    "\n",
    "filename = \"Quant404_IITGuwahati_45\"\n",
    "df.to_csv(filename+'.csv', index=False, header=False)\n",
    "shutil.copyfile(\"Quant404_IITGuwahati_12-Copy2.ipynb\", filename+\".ipynb\")"
   ]
  },
  {
   "cell_type": "code",
   "execution_count": 9,
   "metadata": {},
   "outputs": [
    {
     "data": {
      "text/plain": [
       "'Quant404_IITGuwahati_45.ipynb'"
      ]
     },
     "execution_count": 9,
     "metadata": {},
     "output_type": "execute_result"
    }
   ],
   "source": [
    "model = xgb.train(dict(xgb_params, silent=1), dtrain, num_boost_round=7000)\n",
    "\n",
    "\n",
    "# check f2-score (to get higher score - increase num_boost_round in previous cell)\n",
    "\n",
    "# make predictions and save results\n",
    "y_preds = model.predict(dtest)\n",
    "\n",
    "d = {'col1': leaderboard[\"VAR1\"], 'col2': [int(i) for i in y_preds]}\n",
    "df = pd.DataFrame(data=d)\n",
    "df[\"col2\"][df[\"col2\"] == 0] = \"High\"\n",
    "df[\"col2\"][df[\"col2\"] == 1] = \"Low\"\n",
    "df[\"col2\"][df[\"col2\"] == 2] = \"Medium\"\n",
    "\n",
    "import shutil \n",
    "\n",
    "filename = \"Quant404_IITGuwahati_45\"\n",
    "df.to_csv(filename+'.csv', index=False, header=False)\n",
    "shutil.copyfile(\"Quant404_IITGuwahati_12-Copy2.ipynb\", filename+\".ipynb\")"
   ]
  },
  {
   "cell_type": "code",
   "execution_count": 23,
   "metadata": {
    "collapsed": true
   },
   "outputs": [],
   "source": [
    "from sklearn.model_selection import train_test_split\n",
    "from sklearn.metrics.scorer import make_scorer\n",
    "X_train, X_test, y_train, y_test = train_test_split(X, y,\n",
    "                                                    train_size=30000, test_size=4000)\n",
    "\n",
    "\n",
    "def my_custom_accuracy(y_true, y_pred):\n",
    "    total=0\n",
    "    for t,p in zip(y_true, y_pred):\n",
    "        if(t==p):\n",
    "            total+=1000\n",
    "        if(t==0 and p==1):\n",
    "            total-=100\n",
    "        if(t==0 and p==2):\n",
    "            total-=50\n",
    "        if(t==2 and p==1):\n",
    "            total-=50\n",
    "        if(t==2 and p==0):\n",
    "            total-=100\n",
    "        if(t==1 and p==2):\n",
    "            total-=100\n",
    "        if(t==1 and p==0):\n",
    "            total-=200\n",
    "    return total\n",
    "\n",
    "# Make a custom a scorer from the custom metric function\n",
    "# Note: greater_is_better=False in make_scorer below would mean that the scoring function should be minimized.\n",
    "my_custom_scorer = make_scorer(my_custom_accuracy, greater_is_better=True)\n",
    "X_train, X_test, y_train, y_test = train_test_split(X, y,\n",
    "                                                    train_size=30000, test_size=4000)\n",
    "\n",
    "#tpot = TPOTClassifier(generations=10, population_size=20, verbosity=3, scoring=my_custom_scorer, cv=3)"
   ]
  },
  {
   "cell_type": "code",
   "execution_count": null,
   "metadata": {},
   "outputs": [
    {
     "name": "stdout",
     "output_type": "stream",
     "text": [
      "30 operators have been imported by TPOT.\n"
     ]
    },
    {
     "data": {
      "application/vnd.jupyter.widget-view+json": {
       "model_id": "719362ece2a14f2abcc93ef5ca289e4c",
       "version_major": 2,
       "version_minor": 0
      },
      "text/plain": [
       "A Jupyter Widget"
      ]
     },
     "metadata": {},
     "output_type": "display_data"
    },
    {
     "name": "stdout",
     "output_type": "stream",
     "text": [
      "Skipped pipeline #14 due to time out. Continuing to the next pipeline.\n",
      "Skipped pipeline #17 due to time out. Continuing to the next pipeline.\n"
     ]
    }
   ],
   "source": [
    "tpot.fit(X_train, y_train)"
   ]
  },
  {
   "cell_type": "code",
   "execution_count": null,
   "metadata": {
    "collapsed": true
   },
   "outputs": [],
   "source": []
  }
 ],
 "metadata": {
  "kernelspec": {
   "display_name": "Python 3",
   "language": "python",
   "name": "python3"
  },
  "language_info": {
   "codemirror_mode": {
    "name": "ipython",
    "version": 3
   },
   "file_extension": ".py",
   "mimetype": "text/x-python",
   "name": "python",
   "nbconvert_exporter": "python",
   "pygments_lexer": "ipython3",
   "version": "3.6.3"
  }
 },
 "nbformat": 4,
 "nbformat_minor": 2
}
